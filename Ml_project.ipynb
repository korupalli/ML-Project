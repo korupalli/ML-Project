{
  "nbformat": 4,
  "nbformat_minor": 0,
  "metadata": {
    "colab": {
      "name": "Untitled0.ipynb",
      "provenance": [],
      "collapsed_sections": []
    },
    "kernelspec": {
      "name": "python3",
      "display_name": "Python 3"
    },
    "accelerator": "TPU"
  },
  "cells": [
    {
      "cell_type": "code",
      "metadata": {
        "id": "Wg3mJ8E7cSYy",
        "colab_type": "code",
        "colab": {}
      },
      "source": [
        "import pandas as pd\n",
        "import numpy as np"
      ],
      "execution_count": null,
      "outputs": []
    },
    {
      "cell_type": "markdown",
      "metadata": {
        "id": "-qq0rKu8Ao9J",
        "colab_type": "text"
      },
      "source": [
        "data = pd.read_csv('/content/drive/My Drive/Colab Notebooks/TweetsCOV19.tsv',sep = '\\t',skiprows = list(range(4467891,8935782)),usecols=range(11),iterator=True, chunksize=4460000)\n",
        "df = pd.concat(data, ignore_index=True)\n",
        "data2 = pd.read_csv('/content/drive/My Drive/Colab Notebooks/TweetsCOV19.tsv',sep = '\\t',skiprows = list(range(4467891)),usecols=range(11),iterator=True, chunksize=4460000)\n",
        "df2 = pd.concat(data2, ignore_index=True)\n",
        "frame = pd.concat([df,df2])"
      ]
    },
    {
      "cell_type": "code",
      "metadata": {
        "id": "aWBemLni6f0A",
        "colab_type": "code",
        "colab": {}
      },
      "source": [
        "frame = pd.concat([pd.read_csv('/content/drive/My Drive/Colab Notebooks/TweetsCOV19.tsv',sep = '\\t',skiprows = list(range(4467891,8935782)),usecols=range(11),header=None),pd.read_csv('/content/drive/My Drive/Colab Notebooks/TweetsCOV19.tsv',sep = '\\t',skiprows = list(range(4467891)),usecols=range(11),header=None)])\n",
        "\n",
        "frame.columns = ['Tweet Id', 'Username', 'Timestamp', 'Followers', 'Friends', 'Retweets', 'Favorites', 'Entities', 'Sentiment', 'Mentions', 'Hashtags']"
      ],
      "execution_count": null,
      "outputs": []
    },
    {
      "cell_type": "code",
      "metadata": {
        "id": "y_ATZGz3JZYb",
        "colab_type": "code",
        "colab": {}
      },
      "source": [
        "frame['Timestamp'] = frame.Timestamp.apply(lambda x: x.split())"
      ],
      "execution_count": null,
      "outputs": []
    },
    {
      "cell_type": "code",
      "metadata": {
        "id": "HZNMKeCMP9HM",
        "colab_type": "code",
        "colab": {}
      },
      "source": [
        "frame['Day'] = frame.Timestamp.apply(lambda x: x[0])"
      ],
      "execution_count": null,
      "outputs": []
    },
    {
      "cell_type": "code",
      "metadata": {
        "id": "iQprsDRxRuv3",
        "colab_type": "code",
        "colab": {}
      },
      "source": [
        "frame['Month'] = frame.Timestamp.apply(lambda x: x[1])\n",
        "frame['Date'] = frame.Timestamp.apply(lambda x: x[2])\n",
        "frame['Time'] = frame.Timestamp.apply(lambda x: x[3].split(':')[0])\n",
        "frame['Year'] = frame.Timestamp.apply(lambda x: x[5])"
      ],
      "execution_count": null,
      "outputs": []
    },
    {
      "cell_type": "code",
      "metadata": {
        "id": "ieIcK0HXTMRG",
        "colab_type": "code",
        "colab": {}
      },
      "source": [
        "frame['Pos'] = frame.Sentiment.apply(lambda x: int(x.split()[0]))"
      ],
      "execution_count": null,
      "outputs": []
    },
    {
      "cell_type": "code",
      "metadata": {
        "id": "Oneu8jzHURO6",
        "colab_type": "code",
        "colab": {}
      },
      "source": [
        "frame['Neg'] = frame.Sentiment.apply(lambda x: int(x.split()[1]))"
      ],
      "execution_count": null,
      "outputs": []
    },
    {
      "cell_type": "code",
      "metadata": {
        "id": "h-UQ_KUVU3TC",
        "colab_type": "code",
        "colab": {}
      },
      "source": [
        "frame = frame.drop(columns=['Timestamp','Entities','Username','Sentiment'])"
      ],
      "execution_count": null,
      "outputs": []
    },
    {
      "cell_type": "code",
      "metadata": {
        "id": "aFil2-y2VBMf",
        "colab_type": "code",
        "colab": {}
      },
      "source": [
        "frame.replace('null;', np.NaN,inplace=True)"
      ],
      "execution_count": null,
      "outputs": []
    },
    {
      "cell_type": "code",
      "metadata": {
        "id": "nGyQhWROWiQ5",
        "colab_type": "code",
        "colab": {}
      },
      "source": [
        "frame.Hashtags.loc[pd.notnull(frame.Hashtags)]"
      ],
      "execution_count": null,
      "outputs": []
    },
    {
      "cell_type": "code",
      "metadata": {
        "id": "vqYY5gxkSvej",
        "colab_type": "code",
        "colab": {
          "base_uri": "https://localhost:8080/",
          "height": 124
        },
        "outputId": "1398a772-fe21-493b-d600-2fd7d9b4b8eb"
      },
      "source": [
        "from google.colab import drive\n",
        "drive.mount('drive')"
      ],
      "execution_count": 1,
      "outputs": [
        {
          "output_type": "stream",
          "text": [
            "Go to this URL in a browser: https://accounts.google.com/o/oauth2/auth?client_id=947318989803-6bn6qk8qdgf4n4g3pfee6491hc0brc4i.apps.googleusercontent.com&redirect_uri=urn%3aietf%3awg%3aoauth%3a2.0%3aoob&response_type=code&scope=email%20https%3a%2f%2fwww.googleapis.com%2fauth%2fdocs.test%20https%3a%2f%2fwww.googleapis.com%2fauth%2fdrive%20https%3a%2f%2fwww.googleapis.com%2fauth%2fdrive.photos.readonly%20https%3a%2f%2fwww.googleapis.com%2fauth%2fpeopleapi.readonly\n",
            "\n",
            "Enter your authorization code:\n",
            "··········\n",
            "Mounted at drive\n"
          ],
          "name": "stdout"
        }
      ]
    },
    {
      "cell_type": "code",
      "metadata": {
        "id": "gRwlhHK9TQk2",
        "colab_type": "code",
        "colab": {}
      },
      "source": [
        "frame.to_csv('data.csv')\n",
        "!cp data.csv \"drive/My Drive/Colab Notebooks/\""
      ],
      "execution_count": null,
      "outputs": []
    },
    {
      "cell_type": "code",
      "metadata": {
        "id": "IJQ1znl8UJJW",
        "colab_type": "code",
        "colab": {
          "base_uri": "https://localhost:8080/",
          "height": 52
        },
        "outputId": "e4ec4c24-4d00-45c1-bc26-69aaa399117f"
      },
      "source": [
        "import pandas as pd\n",
        "import numpy as np\n",
        "frame = pd.read_csv('/content/drive/My Drive/Colab Notebooks/comp9417/data.csv')\n",
        "#convert month to number\n",
        "#convert day of week to number\n",
        "\n",
        "month_map={'Jan':1, 'Feb':2, 'Mar':3, 'Apr':4, 'May':5, 'Jun':6, 'Jul':7, 'Aug':8, 'Sep':9, 'Oct':10, 'Nov':11 , 'Dec':12}\n",
        "frame.Month = frame.Month.map(month_map)\n",
        "\n",
        "day_map={'Mon':1, 'Tue':2, 'Wed':3, 'Thu':4, 'Fri':5, 'Sat':6, 'Sun':7}\n",
        "frame.Day = frame.Day.map(day_map)\n",
        "\n",
        "drop_col=['Unnamed: 0', 'Tweet Id','Mentions', 'Hashtags']\n",
        "frame.drop(drop_col,axis=1,inplace=True)\n",
        "\n",
        "print(frame.Retweets.unique())\n",
        "print(len(frame.Retweets.unique()))\n",
        "\n",
        "Y = frame.pop('Retweets')\n",
        "X=frame\n"
      ],
      "execution_count": 2,
      "outputs": [
        {
          "output_type": "stream",
          "text": [
            "[    0    13    26 ...  6816  3868 10791]\n",
            "9441\n"
          ],
          "name": "stdout"
        }
      ]
    },
    {
      "cell_type": "code",
      "metadata": {
        "id": "u_nwanYqgDtm",
        "colab_type": "code",
        "colab": {}
      },
      "source": [
        "#VIF\n",
        "from scipy.linalg.lapack import spotrf, sposv\n",
        "import numpy as np\n",
        "import pandas as pd\n",
        "\n",
        "def variance_inflation_factor(X):\n",
        "    \"\"\"\n",
        "    Calculates the variance inflation factor for each column in a dataframe.\n",
        "    Input:\n",
        "        X: Dataframe\n",
        "    Output:\n",
        "        Dataframe of variance inflation values for each column.\n",
        "    \"\"\"\n",
        "    isDataframe = type(X) is pd.DataFrame\n",
        "    if isDataframe:\n",
        "        columns = X.columns\n",
        "        X = X.values\n",
        "    n, p = X.shape\n",
        "\n",
        "    swap = np.arange(p)\n",
        "    np.random.shuffle(swap)\n",
        "\n",
        "    XTX = X.T @ X\n",
        "    XTX = XTX[swap][:,swap]\n",
        "\n",
        "    select = np.ones(p, dtype = bool)\n",
        "\n",
        "    temp = XTX.copy().T\n",
        "    error = 1\n",
        "    largest = XTX.diagonal().max() // 2\n",
        "    add = largest\n",
        "    maximum = np.finfo(np.float32).max\n",
        "\n",
        "    while error != 0:\n",
        "        C, error = spotrf(a = temp)\n",
        "        if error != 0:\n",
        "            error -= 1\n",
        "            select[error] = False\n",
        "            temp[error, error] += add\n",
        "            error += 1\n",
        "\n",
        "            add += np.random.randint(1,30)\n",
        "            add *= np.random.randint(30,50)\n",
        "        if add > maximum:\n",
        "            add = largest\n",
        "\n",
        "    VIF = np.empty(p, dtype = np.float32)\n",
        "    means = np.mean(X, axis = 0)[swap]\n",
        "\n",
        "    for i in range(p):\n",
        "        curr = select.copy()\n",
        "        s = swap[i]\n",
        "\n",
        "        if curr[i] == False:\n",
        "            VIF[s] = np.inf\n",
        "            continue\n",
        "        curr[i] = False\n",
        "\n",
        "        XX = XTX[curr]\n",
        "        xtx = XX[:, curr]\n",
        "        xty = XX[:,i]\n",
        "        y_x = X[:,s]\n",
        "\n",
        "        theta_x = sposv(xtx, xty)[1]\n",
        "        y_hat = X[:,swap[curr]] @ theta_x\n",
        "\n",
        "        SS_res = y_x-y_hat\n",
        "        SS_res = np.einsum('i,i', SS_res, SS_res)\n",
        "        #SS_res = np.sum((y_x - y_hat)**2)\n",
        "\n",
        "        SS_tot = y_x - means[i]\n",
        "        SS_tot = np.einsum('i,i', SS_tot, SS_tot)\n",
        "        #SS_tot = np.sum((y_x - np.mean(y_x))**2)\n",
        "        if SS_tot == 0:\n",
        "            R2 = 1\n",
        "            VIF[s] = np.inf\n",
        "        else:\n",
        "            R2 = 1 - (SS_res/SS_tot)\n",
        "            VIF[s] = 1/(1-R2)\n",
        "        del XX, xtx, xty, y_x, theta_x, y_hat\n",
        "    if isDataframe:\n",
        "        df_vif = pd.DataFrame({\"vif\": VIF})\n",
        "        df_vif = df_vif.set_index(columns)\n",
        "        return df_vif\n",
        "    return VIF"
      ],
      "execution_count": 2,
      "outputs": []
    },
    {
      "cell_type": "code",
      "metadata": {
        "id": "lQr1e6P71UVU",
        "colab_type": "code",
        "colab": {
          "base_uri": "https://localhost:8080/",
          "height": 1000
        },
        "outputId": "587a9ee3-4947-453d-a1d2-e7425b01c5fc"
      },
      "source": [
        "import pandas as pd, numpy as np, os, gc, matplotlib.pyplot as plt, seaborn as sb, re, warnings, calendar, sys\n",
        "from copy import deepcopy\n",
        "import statsmodels.api as sm\n",
        "from math import log2\n",
        "from collections import defaultdict\n",
        "import seaborn as sns; sns.set()\n",
        "from sklearn import preprocessing\n",
        "\n",
        "print(X)\n",
        "model = sm.OLS(Y, X).fit()\n",
        "print(model.summary())\n",
        "# A VIF of 1 indicates two variables are not correlated, a VIF between 1 and 5 indicates moderate correlation, and a VIF above 5 indicates high correlation.\n",
        "vif= variance_inflation_factor(X)\n",
        "df_coeffs = pd.DataFrame({\"Coefficients\": model.params, \"p\": model.pvalues, \"vif\": vif[\"vif\"]})\n",
        "# df_coeffs = df_coeffs.drop(\"const\", axis=0)\n",
        "\n",
        "df_coeffs.style.bar(subset = [\"Coefficients\", \"p\", \"vif\"], align='mid', color=['#d65f5f', '#5fba7d'])"
      ],
      "execution_count": 3,
      "outputs": [
        {
          "output_type": "stream",
          "text": [
            "/usr/local/lib/python3.6/dist-packages/statsmodels/tools/_testing.py:19: FutureWarning: pandas.util.testing is deprecated. Use the functions in the public API at pandas.testing instead.\n",
            "  import pandas.util.testing as tm\n"
          ],
          "name": "stderr"
        },
        {
          "output_type": "stream",
          "text": [
            "         Followers  Friends  Favorites  Day  Month  Date  Time  Year  Pos  Neg\n",
            "0              619      770          0    1      9    30    22  2019    2   -1\n",
            "1            36365    19344         17    1      9    30    22  2019    1   -4\n",
            "2             5018     1933          0    1      9    30    22  2019    2   -1\n",
            "3             2219      971          0    1      9    30    22  2019    2   -1\n",
            "4             9009     4943         89    1      9    30    22  2019    2   -1\n",
            "...            ...      ...        ...  ...    ...   ...   ...   ...  ...  ...\n",
            "8077789         45      236          0    4      4    30    21  2020    1   -1\n",
            "8077790          5       74          0    4      4    30    21  2020    3   -1\n",
            "8077791      46987     4953        125    4      4    30    21  2020    2   -3\n",
            "8077792      21796    22109          0    4      4    30    21  2020    1   -2\n",
            "8077793         25      203          0    4      4    30    21  2020    2   -1\n",
            "\n",
            "[8077794 rows x 10 columns]\n",
            "                            OLS Regression Results                            \n",
            "==============================================================================\n",
            "Dep. Variable:               Retweets   R-squared:                       0.801\n",
            "Model:                            OLS   Adj. R-squared:                  0.801\n",
            "Method:                 Least Squares   F-statistic:                 3.614e+06\n",
            "Date:                Tue, 21 Jul 2020   Prob (F-statistic):               0.00\n",
            "Time:                        22:17:36   Log-Likelihood:            -5.6833e+07\n",
            "No. Observations:             8077794   AIC:                         1.137e+08\n",
            "Df Residuals:                 8077784   BIC:                         1.137e+08\n",
            "Df Model:                           9                                         \n",
            "Covariance Type:            nonrobust                                         \n",
            "==============================================================================\n",
            "                 coef    std err          t      P>|t|      [0.025      0.975]\n",
            "------------------------------------------------------------------------------\n",
            "Followers   8.273e-07   4.32e-08     19.148      0.000    7.43e-07    9.12e-07\n",
            "Friends        0.0002   4.63e-06     47.767      0.000       0.000       0.000\n",
            "Favorites      0.2210   3.88e-05   5694.656      0.000       0.221       0.221\n",
            "Day            0.0987      0.049      2.011      0.044       0.002       0.195\n",
            "Month         -0.1318      0.029     -4.611      0.000      -0.188      -0.076\n",
            "Date          -0.0115      0.011     -1.020      0.308      -0.034       0.011\n",
            "Time          -0.1270      0.014     -9.008      0.000      -0.155      -0.099\n",
            "Year           0.0056      0.000     25.170      0.000       0.005       0.006\n",
            "Pos           -1.6114      0.128    -12.543      0.000      -1.863      -1.360\n",
            "Neg           -1.8403      0.099    -18.613      0.000      -2.034      -1.647\n",
            "===============================================================================\n",
            "Omnibus:                 25939516.524   Durbin-Watson:                    2.004\n",
            "Prob(Omnibus):                  0.000   Jarque-Bera (JB):   279777370227651.000\n",
            "Skew:                          51.087   Prob(JB):                          0.00\n",
            "Kurtosis:                   28834.205   Cond. No.                      3.00e+06\n",
            "===============================================================================\n",
            "\n",
            "Warnings:\n",
            "[1] Standard Errors assume that the covariance matrix of the errors is correctly specified.\n",
            "[2] The condition number is large,  3e+06. This might indicate that there are\n",
            "strong multicollinearity or other numerical problems.\n"
          ],
          "name": "stdout"
        },
        {
          "output_type": "execute_result",
          "data": {
            "text/html": [
              "<style  type=\"text/css\" >\n",
              "    #T_fe2b1802_cb9f_11ea_bb9e_0242ac1c0002row0_col0 {\n",
              "            width:  10em;\n",
              "             height:  80%;\n",
              "            background:  linear-gradient(90deg, transparent 89.3%, #5fba7d 89.3%, #5fba7d 89.3%, transparent 89.3%);\n",
              "        }    #T_fe2b1802_cb9f_11ea_bb9e_0242ac1c0002row0_col1 {\n",
              "            width:  10em;\n",
              "             height:  80%;\n",
              "            background:  linear-gradient(90deg,#5fba7d 0.0%, transparent 0.0%);\n",
              "        }    #T_fe2b1802_cb9f_11ea_bb9e_0242ac1c0002row0_col2 {\n",
              "            width:  10em;\n",
              "             height:  80%;\n",
              "            background:  linear-gradient(90deg,#5fba7d 99.5%, transparent 99.5%);\n",
              "        }    #T_fe2b1802_cb9f_11ea_bb9e_0242ac1c0002row1_col0 {\n",
              "            width:  10em;\n",
              "             height:  80%;\n",
              "            background:  linear-gradient(90deg, transparent 89.3%, #5fba7d 89.3%, #5fba7d 89.3%, transparent 89.3%);\n",
              "        }    #T_fe2b1802_cb9f_11ea_bb9e_0242ac1c0002row1_col1 {\n",
              "            width:  10em;\n",
              "             height:  80%;\n",
              "        }    #T_fe2b1802_cb9f_11ea_bb9e_0242ac1c0002row1_col2 {\n",
              "            width:  10em;\n",
              "             height:  80%;\n",
              "            background:  linear-gradient(90deg,#5fba7d 97.4%, transparent 97.4%);\n",
              "        }    #T_fe2b1802_cb9f_11ea_bb9e_0242ac1c0002row2_col0 {\n",
              "            width:  10em;\n",
              "             height:  80%;\n",
              "            background:  linear-gradient(90deg, transparent 89.3%, #5fba7d 89.3%, #5fba7d 100.0%, transparent 100.0%);\n",
              "        }    #T_fe2b1802_cb9f_11ea_bb9e_0242ac1c0002row2_col1 {\n",
              "            width:  10em;\n",
              "             height:  80%;\n",
              "        }    #T_fe2b1802_cb9f_11ea_bb9e_0242ac1c0002row2_col2 {\n",
              "            width:  10em;\n",
              "             height:  80%;\n",
              "            background:  linear-gradient(90deg,#5fba7d 80.8%, transparent 80.8%);\n",
              "        }    #T_fe2b1802_cb9f_11ea_bb9e_0242ac1c0002row3_col0 {\n",
              "            width:  10em;\n",
              "             height:  80%;\n",
              "            background:  linear-gradient(90deg, transparent 89.3%, #5fba7d 89.3%, #5fba7d 94.1%, transparent 94.1%);\n",
              "        }    #T_fe2b1802_cb9f_11ea_bb9e_0242ac1c0002row3_col1 {\n",
              "            width:  10em;\n",
              "             height:  80%;\n",
              "            background:  linear-gradient(90deg,#5fba7d 14.4%, transparent 14.4%);\n",
              "        }    #T_fe2b1802_cb9f_11ea_bb9e_0242ac1c0002row3_col2 {\n",
              "            width:  10em;\n",
              "             height:  80%;\n",
              "            background:  linear-gradient(90deg,#5fba7d 99.1%, transparent 99.1%);\n",
              "        }    #T_fe2b1802_cb9f_11ea_bb9e_0242ac1c0002row4_col0 {\n",
              "            width:  10em;\n",
              "             height:  80%;\n",
              "            background:  linear-gradient(90deg, transparent 82.9%, #d65f5f 82.9%, #d65f5f 89.3%, transparent 89.3%);\n",
              "        }    #T_fe2b1802_cb9f_11ea_bb9e_0242ac1c0002row4_col1 {\n",
              "            width:  10em;\n",
              "             height:  80%;\n",
              "            background:  linear-gradient(90deg,#5fba7d 0.0%, transparent 0.0%);\n",
              "        }    #T_fe2b1802_cb9f_11ea_bb9e_0242ac1c0002row4_col2 {\n",
              "            width:  10em;\n",
              "             height:  80%;\n",
              "            background:  linear-gradient(90deg,#5fba7d 96.2%, transparent 96.2%);\n",
              "        }    #T_fe2b1802_cb9f_11ea_bb9e_0242ac1c0002row5_col0 {\n",
              "            width:  10em;\n",
              "             height:  80%;\n",
              "            background:  linear-gradient(90deg, transparent 88.7%, #d65f5f 88.7%, #d65f5f 89.3%, transparent 89.3%);\n",
              "        }    #T_fe2b1802_cb9f_11ea_bb9e_0242ac1c0002row5_col1 {\n",
              "            width:  10em;\n",
              "             height:  80%;\n",
              "            background:  linear-gradient(90deg,#5fba7d 100.0%, transparent 100.0%);\n",
              "        }    #T_fe2b1802_cb9f_11ea_bb9e_0242ac1c0002row5_col2 {\n",
              "            width:  10em;\n",
              "             height:  80%;\n",
              "            background:  linear-gradient(90deg,#5fba7d 100.0%, transparent 100.0%);\n",
              "        }    #T_fe2b1802_cb9f_11ea_bb9e_0242ac1c0002row6_col0 {\n",
              "            width:  10em;\n",
              "             height:  80%;\n",
              "            background:  linear-gradient(90deg, transparent 83.1%, #d65f5f 83.1%, #d65f5f 89.3%, transparent 89.3%);\n",
              "        }    #T_fe2b1802_cb9f_11ea_bb9e_0242ac1c0002row6_col1 {\n",
              "            width:  10em;\n",
              "             height:  80%;\n",
              "            background:  linear-gradient(90deg,#5fba7d 0.0%, transparent 0.0%);\n",
              "        }    #T_fe2b1802_cb9f_11ea_bb9e_0242ac1c0002row6_col2 {\n",
              "            width:  10em;\n",
              "             height:  80%;\n",
              "            background:  linear-gradient(90deg,#5fba7d 98.6%, transparent 98.6%);\n",
              "        }    #T_fe2b1802_cb9f_11ea_bb9e_0242ac1c0002row7_col0 {\n",
              "            width:  10em;\n",
              "             height:  80%;\n",
              "            background:  linear-gradient(90deg, transparent 89.3%, #5fba7d 89.3%, #5fba7d 89.6%, transparent 89.6%);\n",
              "        }    #T_fe2b1802_cb9f_11ea_bb9e_0242ac1c0002row7_col1 {\n",
              "            width:  10em;\n",
              "             height:  80%;\n",
              "            background:  linear-gradient(90deg,#5fba7d 0.0%, transparent 0.0%);\n",
              "        }    #T_fe2b1802_cb9f_11ea_bb9e_0242ac1c0002row7_col2 {\n",
              "            width:  10em;\n",
              "             height:  80%;\n",
              "            background:  linear-gradient(90deg,#5fba7d 0.0%, transparent 0.0%);\n",
              "        }    #T_fe2b1802_cb9f_11ea_bb9e_0242ac1c0002row8_col0 {\n",
              "            width:  10em;\n",
              "             height:  80%;\n",
              "            background:  linear-gradient(90deg, transparent 11.1%, #d65f5f 11.1%, #d65f5f 89.3%, transparent 89.3%);\n",
              "        }    #T_fe2b1802_cb9f_11ea_bb9e_0242ac1c0002row8_col1 {\n",
              "            width:  10em;\n",
              "             height:  80%;\n",
              "            background:  linear-gradient(90deg,#5fba7d 0.0%, transparent 0.0%);\n",
              "        }    #T_fe2b1802_cb9f_11ea_bb9e_0242ac1c0002row8_col2 {\n",
              "            width:  10em;\n",
              "             height:  80%;\n",
              "            background:  linear-gradient(90deg,#5fba7d 92.6%, transparent 92.6%);\n",
              "        }    #T_fe2b1802_cb9f_11ea_bb9e_0242ac1c0002row9_col0 {\n",
              "            width:  10em;\n",
              "             height:  80%;\n",
              "            background:  linear-gradient(90deg,#d65f5f 89.3%, transparent 89.3%);\n",
              "        }    #T_fe2b1802_cb9f_11ea_bb9e_0242ac1c0002row9_col1 {\n",
              "            width:  10em;\n",
              "             height:  80%;\n",
              "            background:  linear-gradient(90deg,#5fba7d 0.0%, transparent 0.0%);\n",
              "        }    #T_fe2b1802_cb9f_11ea_bb9e_0242ac1c0002row9_col2 {\n",
              "            width:  10em;\n",
              "             height:  80%;\n",
              "            background:  linear-gradient(90deg,#5fba7d 98.5%, transparent 98.5%);\n",
              "        }</style><table id=\"T_fe2b1802_cb9f_11ea_bb9e_0242ac1c0002\" ><thead>    <tr>        <th class=\"blank level0\" ></th>        <th class=\"col_heading level0 col0\" >Coefficients</th>        <th class=\"col_heading level0 col1\" >p</th>        <th class=\"col_heading level0 col2\" >vif</th>    </tr></thead><tbody>\n",
              "                <tr>\n",
              "                        <th id=\"T_fe2b1802_cb9f_11ea_bb9e_0242ac1c0002level0_row0\" class=\"row_heading level0 row0\" >Followers</th>\n",
              "                        <td id=\"T_fe2b1802_cb9f_11ea_bb9e_0242ac1c0002row0_col0\" class=\"data row0 col0\" >0.000001</td>\n",
              "                        <td id=\"T_fe2b1802_cb9f_11ea_bb9e_0242ac1c0002row0_col1\" class=\"data row0 col1\" >0.000000</td>\n",
              "                        <td id=\"T_fe2b1802_cb9f_11ea_bb9e_0242ac1c0002row0_col2\" class=\"data row0 col2\" >1.003803</td>\n",
              "            </tr>\n",
              "            <tr>\n",
              "                        <th id=\"T_fe2b1802_cb9f_11ea_bb9e_0242ac1c0002level0_row1\" class=\"row_heading level0 row1\" >Friends</th>\n",
              "                        <td id=\"T_fe2b1802_cb9f_11ea_bb9e_0242ac1c0002row1_col0\" class=\"data row1 col0\" >0.000221</td>\n",
              "                        <td id=\"T_fe2b1802_cb9f_11ea_bb9e_0242ac1c0002row1_col1\" class=\"data row1 col1\" >0.000000</td>\n",
              "                        <td id=\"T_fe2b1802_cb9f_11ea_bb9e_0242ac1c0002row1_col2\" class=\"data row1 col2\" >0.983077</td>\n",
              "            </tr>\n",
              "            <tr>\n",
              "                        <th id=\"T_fe2b1802_cb9f_11ea_bb9e_0242ac1c0002level0_row2\" class=\"row_heading level0 row2\" >Favorites</th>\n",
              "                        <td id=\"T_fe2b1802_cb9f_11ea_bb9e_0242ac1c0002row2_col0\" class=\"data row2 col0\" >0.220974</td>\n",
              "                        <td id=\"T_fe2b1802_cb9f_11ea_bb9e_0242ac1c0002row2_col1\" class=\"data row2 col1\" >0.000000</td>\n",
              "                        <td id=\"T_fe2b1802_cb9f_11ea_bb9e_0242ac1c0002row2_col2\" class=\"data row2 col2\" >0.815590</td>\n",
              "            </tr>\n",
              "            <tr>\n",
              "                        <th id=\"T_fe2b1802_cb9f_11ea_bb9e_0242ac1c0002level0_row3\" class=\"row_heading level0 row3\" >Day</th>\n",
              "                        <td id=\"T_fe2b1802_cb9f_11ea_bb9e_0242ac1c0002row3_col0\" class=\"data row3 col0\" >0.098664</td>\n",
              "                        <td id=\"T_fe2b1802_cb9f_11ea_bb9e_0242ac1c0002row3_col1\" class=\"data row3 col1\" >0.044378</td>\n",
              "                        <td id=\"T_fe2b1802_cb9f_11ea_bb9e_0242ac1c0002row3_col2\" class=\"data row3 col2\" >0.999913</td>\n",
              "            </tr>\n",
              "            <tr>\n",
              "                        <th id=\"T_fe2b1802_cb9f_11ea_bb9e_0242ac1c0002level0_row4\" class=\"row_heading level0 row4\" >Month</th>\n",
              "                        <td id=\"T_fe2b1802_cb9f_11ea_bb9e_0242ac1c0002row4_col0\" class=\"data row4 col0\" >-0.131827</td>\n",
              "                        <td id=\"T_fe2b1802_cb9f_11ea_bb9e_0242ac1c0002row4_col1\" class=\"data row4 col1\" >0.000004</td>\n",
              "                        <td id=\"T_fe2b1802_cb9f_11ea_bb9e_0242ac1c0002row4_col2\" class=\"data row4 col2\" >0.971134</td>\n",
              "            </tr>\n",
              "            <tr>\n",
              "                        <th id=\"T_fe2b1802_cb9f_11ea_bb9e_0242ac1c0002level0_row5\" class=\"row_heading level0 row5\" >Date</th>\n",
              "                        <td id=\"T_fe2b1802_cb9f_11ea_bb9e_0242ac1c0002row5_col0\" class=\"data row5 col0\" >-0.011523</td>\n",
              "                        <td id=\"T_fe2b1802_cb9f_11ea_bb9e_0242ac1c0002row5_col1\" class=\"data row5 col1\" >0.307788</td>\n",
              "                        <td id=\"T_fe2b1802_cb9f_11ea_bb9e_0242ac1c0002row5_col2\" class=\"data row5 col2\" >1.009051</td>\n",
              "            </tr>\n",
              "            <tr>\n",
              "                        <th id=\"T_fe2b1802_cb9f_11ea_bb9e_0242ac1c0002level0_row6\" class=\"row_heading level0 row6\" >Time</th>\n",
              "                        <td id=\"T_fe2b1802_cb9f_11ea_bb9e_0242ac1c0002row6_col0\" class=\"data row6 col0\" >-0.127012</td>\n",
              "                        <td id=\"T_fe2b1802_cb9f_11ea_bb9e_0242ac1c0002row6_col1\" class=\"data row6 col1\" >0.000000</td>\n",
              "                        <td id=\"T_fe2b1802_cb9f_11ea_bb9e_0242ac1c0002row6_col2\" class=\"data row6 col2\" >0.995270</td>\n",
              "            </tr>\n",
              "            <tr>\n",
              "                        <th id=\"T_fe2b1802_cb9f_11ea_bb9e_0242ac1c0002level0_row7\" class=\"row_heading level0 row7\" >Year</th>\n",
              "                        <td id=\"T_fe2b1802_cb9f_11ea_bb9e_0242ac1c0002row7_col0\" class=\"data row7 col0\" >0.005626</td>\n",
              "                        <td id=\"T_fe2b1802_cb9f_11ea_bb9e_0242ac1c0002row7_col1\" class=\"data row7 col1\" >0.000000</td>\n",
              "                        <td id=\"T_fe2b1802_cb9f_11ea_bb9e_0242ac1c0002row7_col2\" class=\"data row7 col2\" >0.000001</td>\n",
              "            </tr>\n",
              "            <tr>\n",
              "                        <th id=\"T_fe2b1802_cb9f_11ea_bb9e_0242ac1c0002level0_row8\" class=\"row_heading level0 row8\" >Pos</th>\n",
              "                        <td id=\"T_fe2b1802_cb9f_11ea_bb9e_0242ac1c0002row8_col0\" class=\"data row8 col0\" >-1.611387</td>\n",
              "                        <td id=\"T_fe2b1802_cb9f_11ea_bb9e_0242ac1c0002row8_col1\" class=\"data row8 col1\" >0.000000</td>\n",
              "                        <td id=\"T_fe2b1802_cb9f_11ea_bb9e_0242ac1c0002row8_col2\" class=\"data row8 col2\" >0.934733</td>\n",
              "            </tr>\n",
              "            <tr>\n",
              "                        <th id=\"T_fe2b1802_cb9f_11ea_bb9e_0242ac1c0002level0_row9\" class=\"row_heading level0 row9\" >Neg</th>\n",
              "                        <td id=\"T_fe2b1802_cb9f_11ea_bb9e_0242ac1c0002row9_col0\" class=\"data row9 col0\" >-1.840344</td>\n",
              "                        <td id=\"T_fe2b1802_cb9f_11ea_bb9e_0242ac1c0002row9_col1\" class=\"data row9 col1\" >0.000000</td>\n",
              "                        <td id=\"T_fe2b1802_cb9f_11ea_bb9e_0242ac1c0002row9_col2\" class=\"data row9 col2\" >0.994306</td>\n",
              "            </tr>\n",
              "    </tbody></table>"
            ],
            "text/plain": [
              "<pandas.io.formats.style.Styler at 0x7f1b4999beb8>"
            ]
          },
          "metadata": {
            "tags": []
          },
          "execution_count": 3
        }
      ]
    },
    {
      "cell_type": "code",
      "metadata": {
        "id": "GHzg3alz6wpS",
        "colab_type": "code",
        "colab": {
          "base_uri": "https://localhost:8080/",
          "height": 176
        },
        "outputId": "f572f640-3ab9-40d7-c10a-f369b3e9967d"
      },
      "source": [
        "import time\n",
        "import numpy as np \n",
        "import pandas as pd \n",
        "import matplotlib.pyplot as plt\n",
        "from matplotlib.pyplot import figure\n",
        "import seaborn as sns\n",
        "from sklearn import preprocessing\n",
        "from sklearn.preprocessing import LabelEncoder\n",
        "from sklearn.preprocessing import StandardScaler\n",
        "from sklearn.model_selection import train_test_split\n",
        "from sklearn.metrics import classification_report,confusion_matrix,accuracy_score,recall_score\n",
        "from sklearn.ensemble import RandomForestClassifier\n",
        "\n",
        "print(X.shape,Y.shape)\n",
        "print(Y.unique())\n",
        "X_RF=X[:10000]\n",
        "Y_RF=Y[:10000]\n",
        "print(len(Y_RF.unique()))\n",
        "Y_RF = LabelEncoder().fit_transform(Y_RF)\n",
        "X_RF = StandardScaler().fit_transform(X_RF)\n",
        "\n",
        "# print(len(X[0]))\n",
        "# X_RF=X_RF[:10000]\n",
        "# Y_RF=Y_RF[:10000]\n",
        "\n",
        "\n",
        "\n",
        "def forest_test(X, Y):\n",
        "    X_Train, X_Test, Y_Train, Y_Test = train_test_split(X, Y, \n",
        "                                                        test_size = 0.30, \n",
        "                                                        random_state = 42)\n",
        "    print(X_Train.shape,X_Test.shape,Y_Train.shape, Y_Test.shape)\n",
        "    start = time.process_time()\n",
        "    trainedforest = RandomForestClassifier(n_estimators=500,random_state=1).fit(X_Train,Y_Train)\n",
        "    print('time to fit RF',time.process_time() - start)\n",
        "    predictionforest = trainedforest.predict(X_Test)\n",
        "    print('accuracy score',accuracy_score(Y_Test,predictionforest))\n",
        "    # print('recall score', recall_score(Y_Test,predictionforest,average='micro'))\n",
        "    # print(confusion_matrix(Y_Test,predictionforest))\n",
        "    # print(classification_report(Y_Test,predictionforest))\n",
        "\n",
        "forest_test(X_RF, Y_RF)"
      ],
      "execution_count": 2,
      "outputs": [
        {
          "output_type": "stream",
          "text": [
            "/usr/local/lib/python3.6/dist-packages/statsmodels/tools/_testing.py:19: FutureWarning: pandas.util.testing is deprecated. Use the functions in the public API at pandas.testing instead.\n",
            "  import pandas.util.testing as tm\n"
          ],
          "name": "stderr"
        },
        {
          "output_type": "stream",
          "text": [
            "(8077794, 10) (8077794,)\n",
            "[    0    13    26 ...  6816  3868 10791]\n",
            "420\n",
            "(7000, 10) (3000, 10) (7000,) (3000,)\n",
            "time to fit RF 25.852219863\n",
            "accuracy score 0.6233333333333333\n"
          ],
          "name": "stdout"
        }
      ]
    },
    {
      "cell_type": "code",
      "metadata": {
        "id": "08AFzhf7DbPq",
        "colab_type": "code",
        "colab": {
          "base_uri": "https://localhost:8080/",
          "height": 106
        },
        "outputId": "dab7efd5-4498-4200-b013-6e40195d94eb"
      },
      "source": [
        "# import joblib\n",
        "# import pandas as pd\n",
        "# from sklearn.ensemble import RandomForestClassifier\n",
        "# from sklearn.model_selection import GridSearchCV\n",
        "# import warnings\n",
        "# warnings.filterwarnings('ignore', category=FutureWarning)\n",
        "# warnings.filterwarnings('ignore', category=DeprecationWarning)\n",
        "# from sklearn.preprocessing import LabelEncoder\n",
        "# from sklearn.preprocessing import StandardScaler\n",
        "\n",
        "# X_RF=X[:10000]\n",
        "# Y_RF=Y[:10000]\n",
        "# print(len(Y_RF.unique()))\n",
        "# Y_RF = LabelEncoder().fit_transform(Y_RF)\n",
        "# X_RF = StandardScaler().fit_transform(X_RF)\n",
        "\n",
        "# def print_results(results):\n",
        "#     print('BEST PARAMS: {}\\n'.format(results.best_params_))\n",
        "\n",
        "#     means = results.cv_results_['mean_test_score']\n",
        "#     stds = results.cv_results_['std_test_score']\n",
        "#     for mean, std, params in zip(means, stds, results.cv_results_['params']):\n",
        "#         print('{} (+/-{}) for {}'.format(round(mean, 3), round(std * 2, 3), params))\n",
        "\n",
        "# rf = RandomForestClassifier()\n",
        "# parameters = {\n",
        "#     'n_estimators': [250,500],\n",
        "#     # 'max_depth': [8, 16, 32, None]\n",
        "# }\n",
        "\n",
        "# print(X_RF.shape,Y_RF.shape)\n",
        "# cv = GridSearchCV(rf, parameters, cv=5)\n",
        "# cv.fit(X_RF, Y_RF)\n",
        "\n",
        "# print_results(cv)\n"
      ],
      "execution_count": null,
      "outputs": [
        {
          "output_type": "stream",
          "text": [
            "420\n",
            "(10000, 10) (10000,)\n"
          ],
          "name": "stdout"
        },
        {
          "output_type": "stream",
          "text": [
            "/usr/local/lib/python3.6/dist-packages/sklearn/model_selection/_split.py:667: UserWarning: The least populated class in y has only 1 members, which is less than n_splits=5.\n",
            "  % (min_groups, self.n_splits)), UserWarning)\n"
          ],
          "name": "stderr"
        }
      ]
    },
    {
      "cell_type": "code",
      "metadata": {
        "id": "tvqFfpUsRrHI",
        "colab_type": "code",
        "colab": {
          "base_uri": "https://localhost:8080/",
          "height": 104
        },
        "outputId": "4c7127f1-50f4-4ad0-bc82-1d9ed5c87dd1"
      },
      "source": [
        "#Linear Regression\n",
        "from sklearn import metrics\n",
        "import time\n",
        "import numpy as np \n",
        "import pandas as pd \n",
        "import matplotlib.pyplot as plt\n",
        "from sklearn import metrics\n",
        "from sklearn.linear_model import LinearRegression\n",
        "from sklearn.model_selection import train_test_split\n",
        "from sklearn.model_selection import cross_val_score\n",
        "X_Train, X_Test, Y_Train, Y_Test = train_test_split(X, Y, \n",
        "                                                        test_size = 0.30, \n",
        "                                                        random_state = 42)\n",
        "print(X_Train.shape,X_Test.shape,Y_Train.shape, Y_Test.shape)\n",
        "start = time.process_time()\n",
        "model=LinearRegression()\n",
        "model.fit(X_Train,Y_Train)\n",
        "print('Time to fit model',time.process_time() - start)\n",
        "predictions=model.predict(X_Test)\n",
        "print('Return the coefficient of determination R^2 of the prediction.',model.score(X_Test,Y_Test))\n",
        "print('Mean squared log error MSLE',metrics.mean_squared_log_error(Y_Test,predictions))\n",
        "# plt.scatter(Y_Test,predictions)\n",
        "# plt.xlabel(\"Actual Retweets\")\n",
        "# plt.ylabel(\"Predicted Retweets\")\n",
        "# plt.show()\n",
        "\n",
        "#k-fold cross validation\n",
        "model=LinearRegression()\n",
        "cv_4_results = cross_val_score(model, X, Y, cv=5)\n",
        "cv_4_results\n"
      ],
      "execution_count": 11,
      "outputs": [
        {
          "output_type": "stream",
          "text": [
            "(5654455, 10) (2423339, 10) (5654455,) (2423339,)\n",
            "Time to fit model 1.6940796250000005\n",
            "Return the coefficient of determination R^2 of the prediction. 0.829673768373932\n",
            "Mean squared log error MSLE 3.5612113242821137\n"
          ],
          "name": "stdout"
        },
        {
          "output_type": "execute_result",
          "data": {
            "text/plain": [
              "array([0.7327294 , 0.72533973, 0.85255705, 0.81285665, 0.76812381])"
            ]
          },
          "metadata": {
            "tags": []
          },
          "execution_count": 11
        }
      ]
    },
    {
      "cell_type": "code",
      "metadata": {
        "id": "SmFqQxcHV5gJ",
        "colab_type": "code",
        "colab": {
          "base_uri": "https://localhost:8080/",
          "height": 86
        },
        "outputId": "bd47f9a6-5487-4a5a-d7ab-341662ddd9b3"
      },
      "source": [
        "from sklearn.ensemble import RandomForestClassifier, RandomForestRegressor\n",
        "from sklearn import metrics\n",
        "import time\n",
        "from sklearn.model_selection import train_test_split\n",
        "# print(RandomForestClassifier())\n",
        "# print(RandomForestRegressor())\n",
        "\n",
        "X_RF=X[:100000]\n",
        "Y_RF=Y[:100000]\n",
        "\n",
        "X_Train, X_Test, Y_Train, Y_Test = train_test_split(X_RF, Y_RF, \n",
        "                                                        test_size = 0.30, \n",
        "                                                        random_state = 42)\n",
        "print(X_Train.shape,X_Test.shape,Y_Train.shape, Y_Test.shape)\n",
        "start = time.process_time()\n",
        "model=RandomForestRegressor()\n",
        "model.fit(X_Train,Y_Train)\n",
        "print('Time to fit model',time.process_time() - start)\n",
        "predictions=model.predict(X_Test)\n",
        "print('Return the coefficient of determination R^2 of the prediction.',model.score(X_Test,Y_Test))\n",
        "print('Mean squared log error MSLE',metrics.mean_squared_log_error(Y_Test,predictions))"
      ],
      "execution_count": 8,
      "outputs": [
        {
          "output_type": "stream",
          "text": [
            "(70000, 10) (30000, 10) (70000,) (30000,)\n",
            "Time to fit model 45.455493115000024\n",
            "Return the coefficient of determination R^2 of the prediction. 0.4157344650943916\n",
            "Mean squared log error MSLE 0.2517106097499519\n"
          ],
          "name": "stdout"
        }
      ]
    }
  ]
}