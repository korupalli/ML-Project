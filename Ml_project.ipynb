{
 "cells": [
  {
   "cell_type": "code",
   "execution_count": null,
   "metadata": {
    "colab": {},
    "colab_type": "code",
    "id": "Wg3mJ8E7cSYy"
   },
   "outputs": [],
   "source": [
    "import pandas as pd\n",
    "import numpy as np"
   ]
  },
  {
   "cell_type": "markdown",
   "metadata": {
    "colab_type": "text",
    "id": "-qq0rKu8Ao9J"
   },
   "source": [
    "data = pd.read_csv('/content/drive/My Drive/Colab Notebooks/TweetsCOV19.tsv',sep = '\\t',skiprows = list(range(4467891,8935782)),usecols=range(11),iterator=True, chunksize=4460000)\n",
    "df = pd.concat(data, ignore_index=True)\n",
    "data2 = pd.read_csv('/content/drive/My Drive/Colab Notebooks/TweetsCOV19.tsv',sep = '\\t',skiprows = list(range(4467891)),usecols=range(11),iterator=True, chunksize=4460000)\n",
    "df2 = pd.concat(data2, ignore_index=True)\n",
    "frame = pd.concat([df,df2])"
   ]
  },
  {
   "cell_type": "code",
   "execution_count": null,
   "metadata": {
    "colab": {},
    "colab_type": "code",
    "id": "aWBemLni6f0A"
   },
   "outputs": [],
   "source": [
    "frame = pd.concat([pd.read_csv('/content/drive/My Drive/Colab Notebooks/TweetsCOV19.tsv',sep = '\\t',skiprows = list(range(4467891,8935782)),usecols=range(11),header=None),pd.read_csv('/content/drive/My Drive/Colab Notebooks/TweetsCOV19.tsv',sep = '\\t',skiprows = list(range(4467891)),usecols=range(11),header=None)])\n",
    "\n",
    "frame.columns = ['Tweet Id', 'Username', 'Timestamp', 'Followers', 'Friends', 'Retweets', 'Favorites', 'Entities', 'Sentiment', 'Mentions', 'Hashtags']"
   ]
  },
  {
   "cell_type": "code",
   "execution_count": null,
   "metadata": {
    "colab": {},
    "colab_type": "code",
    "id": "y_ATZGz3JZYb"
   },
   "outputs": [],
   "source": [
    "frame['Timestamp'] = frame.Timestamp.apply(lambda x: x.split())"
   ]
  },
  {
   "cell_type": "code",
   "execution_count": null,
   "metadata": {
    "colab": {},
    "colab_type": "code",
    "id": "HZNMKeCMP9HM"
   },
   "outputs": [],
   "source": [
    "frame['Day'] = frame.Timestamp.apply(lambda x: x[0])"
   ]
  },
  {
   "cell_type": "code",
   "execution_count": null,
   "metadata": {
    "colab": {},
    "colab_type": "code",
    "id": "iQprsDRxRuv3"
   },
   "outputs": [],
   "source": [
    "frame['Month'] = frame.Timestamp.apply(lambda x: x[1])\n",
    "frame['Date'] = frame.Timestamp.apply(lambda x: x[2])\n",
    "frame['Time'] = frame.Timestamp.apply(lambda x: x[3].split(':')[0])\n",
    "frame['Year'] = frame.Timestamp.apply(lambda x: x[5])"
   ]
  },
  {
   "cell_type": "code",
   "execution_count": null,
   "metadata": {
    "colab": {},
    "colab_type": "code",
    "id": "ieIcK0HXTMRG"
   },
   "outputs": [],
   "source": [
    "frame['Pos'] = frame.Sentiment.apply(lambda x: int(x.split()[0]))"
   ]
  },
  {
   "cell_type": "code",
   "execution_count": null,
   "metadata": {
    "colab": {},
    "colab_type": "code",
    "id": "Oneu8jzHURO6"
   },
   "outputs": [],
   "source": [
    "frame['Neg'] = frame.Sentiment.apply(lambda x: int(x.split()[1]))"
   ]
  },
  {
   "cell_type": "code",
   "execution_count": null,
   "metadata": {
    "colab": {},
    "colab_type": "code",
    "id": "h-UQ_KUVU3TC"
   },
   "outputs": [],
   "source": [
    "frame = frame.drop(columns=['Timestamp','Entities','Username','Sentiment'])"
   ]
  },
  {
   "cell_type": "code",
   "execution_count": null,
   "metadata": {
    "colab": {},
    "colab_type": "code",
    "id": "aFil2-y2VBMf"
   },
   "outputs": [],
   "source": [
    "frame.replace('null;', np.NaN,inplace=True)"
   ]
  },
  {
   "cell_type": "code",
   "execution_count": null,
   "metadata": {
    "colab": {},
    "colab_type": "code",
    "id": "nGyQhWROWiQ5"
   },
   "outputs": [],
   "source": [
    "frame.Hashtags.loc[pd.notnull(frame.Hashtags)]"
   ]
  },
  {
   "cell_type": "code",
   "execution_count": 1,
   "metadata": {
    "colab": {
     "base_uri": "https://localhost:8080/",
     "height": 124
    },
    "colab_type": "code",
    "id": "vqYY5gxkSvej",
    "outputId": "1398a772-fe21-493b-d600-2fd7d9b4b8eb"
   },
   "outputs": [
    {
     "name": "stdout",
     "output_type": "stream",
     "text": [
      "Go to this URL in a browser: https://accounts.google.com/o/oauth2/auth?client_id=947318989803-6bn6qk8qdgf4n4g3pfee6491hc0brc4i.apps.googleusercontent.com&redirect_uri=urn%3aietf%3awg%3aoauth%3a2.0%3aoob&response_type=code&scope=email%20https%3a%2f%2fwww.googleapis.com%2fauth%2fdocs.test%20https%3a%2f%2fwww.googleapis.com%2fauth%2fdrive%20https%3a%2f%2fwww.googleapis.com%2fauth%2fdrive.photos.readonly%20https%3a%2f%2fwww.googleapis.com%2fauth%2fpeopleapi.readonly\n",
      "\n",
      "Enter your authorization code:\n",
      "··········\n",
      "Mounted at drive\n"
     ]
    }
   ],
   "source": [
    "from google.colab import drive\n",
    "drive.mount('drive')"
   ]
  },
  {
   "cell_type": "code",
   "execution_count": null,
   "metadata": {
    "colab": {},
    "colab_type": "code",
    "id": "gRwlhHK9TQk2"
   },
   "outputs": [],
   "source": [
    "frame.to_csv('data.csv')\n",
    "!cp data.csv \"drive/My Drive/Colab Notebooks/\""
   ]
  },
  {
   "cell_type": "code",
   "execution_count": 2,
   "metadata": {
    "colab": {
     "base_uri": "https://localhost:8080/",
     "height": 52
    },
    "colab_type": "code",
    "id": "IJQ1znl8UJJW",
    "outputId": "e4ec4c24-4d00-45c1-bc26-69aaa399117f"
   },
   "outputs": [
    {
     "name": "stdout",
     "output_type": "stream",
     "text": [
      "[    0    13    26 ...  6816  3868 10791]\n",
      "9441\n"
     ]
    }
   ],
   "source": [
    "import pandas as pd\n",
    "import numpy as np\n",
    "frame = pd.read_csv('/content/drive/My Drive/Colab Notebooks/comp9417/data.csv')\n",
    "#convert month to number\n",
    "#convert day of week to number\n",
    "\n",
    "month_map={'Jan':1, 'Feb':2, 'Mar':3, 'Apr':4, 'May':5, 'Jun':6, 'Jul':7, 'Aug':8, 'Sep':9, 'Oct':10, 'Nov':11 , 'Dec':12}\n",
    "frame.Month = frame.Month.map(month_map)\n",
    "\n",
    "day_map={'Mon':1, 'Tue':2, 'Wed':3, 'Thu':4, 'Fri':5, 'Sat':6, 'Sun':7}\n",
    "frame.Day = frame.Day.map(day_map)\n",
    "\n",
    "drop_col=['Unnamed: 0', 'Tweet Id','Mentions', 'Hashtags']\n",
    "frame.drop(drop_col,axis=1,inplace=True)\n",
    "\n",
    "print(frame.Retweets.unique())\n",
    "print(len(frame.Retweets.unique()))\n",
    "\n",
    "Y = frame.pop('Retweets')\n",
    "X=frame\n"
   ]
  },
  {
   "cell_type": "code",
   "execution_count": 1,
   "metadata": {
    "colab": {},
    "colab_type": "code",
    "id": "u_nwanYqgDtm"
   },
   "outputs": [],
   "source": [
    "#VIF\n",
    "from scipy.linalg.lapack import spotrf, sposv\n",
    "import numpy as np\n",
    "import pandas as pd\n",
    "\n",
    "def variance_inflation_factor(X):\n",
    "    \"\"\"\n",
    "    Calculates the variance inflation factor for each column in a dataframe.\n",
    "    Input:\n",
    "        X: Dataframe\n",
    "    Output:\n",
    "        Dataframe of variance inflation values for each column.\n",
    "    \"\"\"\n",
    "    isDataframe = type(X) is pd.DataFrame\n",
    "    if isDataframe:\n",
    "        columns = X.columns\n",
    "        X = X.values\n",
    "    n, p = X.shape\n",
    "\n",
    "    swap = np.arange(p)\n",
    "    np.random.shuffle(swap)\n",
    "\n",
    "    XTX = X.T @ X\n",
    "    XTX = XTX[swap][:,swap]\n",
    "\n",
    "    select = np.ones(p, dtype = bool)\n",
    "\n",
    "    temp = XTX.copy().T\n",
    "    error = 1\n",
    "    largest = XTX.diagonal().max() // 2\n",
    "    add = largest\n",
    "    maximum = np.finfo(np.float32).max\n",
    "\n",
    "    while error != 0:\n",
    "        C, error = spotrf(a = temp)\n",
    "        if error != 0:\n",
    "            error -= 1\n",
    "            select[error] = False\n",
    "            temp[error, error] += add\n",
    "            error += 1\n",
    "\n",
    "            add += np.random.randint(1,30)\n",
    "            add *= np.random.randint(30,50)\n",
    "        if add > maximum:\n",
    "            add = largest\n",
    "\n",
    "    VIF = np.empty(p, dtype = np.float32)\n",
    "    means = np.mean(X, axis = 0)[swap]\n",
    "\n",
    "    for i in range(p):\n",
    "        curr = select.copy()\n",
    "        s = swap[i]\n",
    "\n",
    "        if curr[i] == False:\n",
    "            VIF[s] = np.inf\n",
    "            continue\n",
    "        curr[i] = False\n",
    "\n",
    "        XX = XTX[curr]\n",
    "        xtx = XX[:, curr]\n",
    "        xty = XX[:,i]\n",
    "        y_x = X[:,s]\n",
    "\n",
    "        theta_x = sposv(xtx, xty)[1]\n",
    "        y_hat = X[:,swap[curr]] @ theta_x\n",
    "\n",
    "        SS_res = y_x-y_hat\n",
    "        SS_res = np.einsum('i,i', SS_res, SS_res)\n",
    "        #SS_res = np.sum((y_x - y_hat)**2)\n",
    "\n",
    "        SS_tot = y_x - means[i]\n",
    "        SS_tot = np.einsum('i,i', SS_tot, SS_tot)\n",
    "        #SS_tot = np.sum((y_x - np.mean(y_x))**2)\n",
    "        if SS_tot == 0:\n",
    "            R2 = 1\n",
    "            VIF[s] = np.inf\n",
    "        else:\n",
    "            R2 = 1 - (SS_res/SS_tot)\n",
    "            VIF[s] = 1/(1-R2)\n",
    "        del XX, xtx, xty, y_x, theta_x, y_hat\n",
    "    if isDataframe:\n",
    "        df_vif = pd.DataFrame({\"vif\": VIF})\n",
    "        df_vif = df_vif.set_index(columns)\n",
    "        return df_vif\n",
    "    return VIF"
   ]
  },
  {
   "cell_type": "code",
   "execution_count": null,
   "metadata": {
    "colab": {
     "base_uri": "https://localhost:8080/",
     "height": 1000
    },
    "colab_type": "code",
    "id": "lQr1e6P71UVU",
    "outputId": "587a9ee3-4947-453d-a1d2-e7425b01c5fc"
   },
   "outputs": [
    {
     "name": "stdout",
     "output_type": "stream",
     "text": [
      "                  Tweet Id  Followers  Friends  Favorites  Day  Month  Date  \\\n",
      "0      1216392803632197632      53076      799         61    7      1    12   \n",
      "1      1224190295513817088       3970      530         81    1      2     3   \n",
      "2      1233349182888517633      15767    13932         48    5      2    28   \n",
      "3      1247138584949374983       6838     5736         56    1      4     6   \n",
      "4      1241735776527884290       1319      290         41    7      3    22   \n",
      "...                    ...        ...      ...        ...  ...    ...   ...   \n",
      "43970  1242539912626397184      19567     3307      34087    2      3    24   \n",
      "43971  1241774965642473479       2575      743      97227    7      3    22   \n",
      "43972  1241717148390690817        668       82      24475    7      3    22   \n",
      "43973  1234208058399739906       1942      192      80732    7      3     1   \n",
      "43974  1221973312898646016       1538      453      54193    2      1    28   \n",
      "\n",
      "       Time  Year  Pos  Neg  Mentions_count  Hashtags_count  Mentions_score  \\\n",
      "0        16  2020    1   -1               0               1               0   \n",
      "1         4  2020    1   -1               0               0               0   \n",
      "2        11  2020    1   -3               0               2               0   \n",
      "3        12  2020    2   -3               0               0               0   \n",
      "4        14  2020    2   -1               0               1               0   \n",
      "...     ...   ...  ...  ...             ...             ...             ...   \n",
      "43970    19  2020    3   -1               0               0               0   \n",
      "43971    17  2020    1   -2               0               0               0   \n",
      "43972    13  2020    1   -1               0               0               0   \n",
      "43973    20  2020    1   -1               0               0               0   \n",
      "43974     1  2020    1   -1               0               1               0   \n",
      "\n",
      "       Hashtags_score  Mentions_score_avg  Hashtags_score_avg  \n",
      "0                2091                 0.0              2091.0  \n",
      "1                   0                 0.0                 0.0  \n",
      "2               24655                 0.0             12327.5  \n",
      "3                   0                 0.0                 0.0  \n",
      "4               22891                 0.0             22891.0  \n",
      "...               ...                 ...                 ...  \n",
      "43970               0                 0.0                 0.0  \n",
      "43971               0                 0.0                 0.0  \n",
      "43972               0                 0.0                 0.0  \n",
      "43973               0                 0.0                 0.0  \n",
      "43974          205754                 0.0            205754.0  \n",
      "\n",
      "[43975 rows x 17 columns]\n",
      "                            OLS Regression Results                            \n",
      "==============================================================================\n",
      "Dep. Variable:                    bin   R-squared:                       0.144\n",
      "Model:                            OLS   Adj. R-squared:                  0.143\n",
      "Method:                 Least Squares   F-statistic:                     1053.\n",
      "Date:                Sat, 08 Aug 2020   Prob (F-statistic):               0.00\n",
      "Time:                        16:52:59   Log-Likelihood:                -67858.\n",
      "No. Observations:               43975   AIC:                         1.357e+05\n",
      "Df Residuals:                   43967   BIC:                         1.358e+05\n",
      "Df Model:                           7                                         \n",
      "Covariance Type:            nonrobust                                         \n",
      "======================================================================================\n",
      "                         coef    std err          t      P>|t|      [0.025      0.975]\n",
      "--------------------------------------------------------------------------------------\n",
      "Tweet Id            1.231e-18   4.87e-21    252.564      0.000    1.22e-18    1.24e-18\n",
      "Followers           1.513e-08   8.41e-10     17.981      0.000    1.35e-08    1.68e-08\n",
      "Friends             7.852e-07    1.5e-07      5.228      0.000    4.91e-07    1.08e-06\n",
      "Favorites           1.408e-05   1.73e-07     81.233      0.000    1.37e-05    1.44e-05\n",
      "Day                 -2.55e-11   5.31e-12     -4.805      0.000   -3.59e-11   -1.51e-11\n",
      "Month              -5.582e-11   2.17e-12    -25.702      0.000   -6.01e-11   -5.16e-11\n",
      "Date                9.039e-12   1.13e-11      0.803      0.422    -1.3e-11    3.11e-11\n",
      "Time                6.316e-11   7.08e-12      8.925      0.000    4.93e-11     7.7e-11\n",
      "Year               -3.969e-10   3.75e-11    -10.582      0.000    -4.7e-10   -3.23e-10\n",
      "Pos                -2.024e-12   1.51e-13    -13.426      0.000   -2.32e-12   -1.73e-12\n",
      "Neg                -4.305e-12   5.34e-13     -8.056      0.000   -5.35e-12   -3.26e-12\n",
      "Mentions_count     -3.762e-10   7.82e-11     -4.813      0.000   -5.29e-10   -2.23e-10\n",
      "Hashtags_count     -8.776e-11   7.25e-12    -12.100      0.000   -1.02e-10   -7.35e-11\n",
      "Mentions_score     -2.102e-06   7.01e-07     -2.998      0.003   -3.48e-06   -7.28e-07\n",
      "Hashtags_score     -1.285e-06   1.67e-07     -7.673      0.000   -1.61e-06   -9.57e-07\n",
      "Mentions_score_avg  5.005e-06   9.21e-07      5.435      0.000     3.2e-06    6.81e-06\n",
      "Hashtags_score_avg  9.245e-07   2.53e-07      3.649      0.000    4.28e-07    1.42e-06\n",
      "==============================================================================\n",
      "Omnibus:                      310.713   Durbin-Watson:                   0.196\n",
      "Prob(Omnibus):                  0.000   Jarque-Bera (JB):              314.419\n",
      "Skew:                          -0.201   Prob(JB):                     5.31e-69\n",
      "Kurtosis:                       2.898   Cond. No.                     1.64e+18\n",
      "==============================================================================\n",
      "\n",
      "Warnings:\n",
      "[1] Standard Errors assume that the covariance matrix of the errors is correctly specified.\n",
      "[2] The condition number is large, 1.64e+18. This might indicate that there are\n",
      "strong multicollinearity or other numerical problems.\n"
     ]
    }
   ],
   "source": [
    "import pandas as pd, numpy as np, os, gc, matplotlib.pyplot as plt, seaborn as sb, re, warnings, calendar, sys\n",
    "from copy import deepcopy\n",
    "import statsmodels.api as sm\n",
    "from math import log2\n",
    "from collections import defaultdict\n",
    "import seaborn as sns; sns.set()\n",
    "from sklearn import preprocessing\n",
    "train_set=pd.read_csv('train.csv')\n",
    "test_set=pd.read_csv('test.csv')\n",
    "\n",
    "train_set.drop(['Unnamed: 0.1','Unnamed: 0'],axis=1,inplace=True)\n",
    "test_set.drop(['Unnamed: 0.1','Unnamed: 0'],axis=1,inplace=True)\n",
    "Y = train_set.pop('bin')\n",
    "X= train_set\n",
    "print(X)\n",
    "model = sm.OLS(Y, X).fit()\n",
    "print(model.summary())\n",
    "# A VIF of 1 indicates two variables are not correlated, a VIF between 1 and 5 indicates moderate correlation, and a VIF above 5 indicates high correlation.\n",
    "vif= variance_inflation_factor(X)\n",
    "df_coeffs = pd.DataFrame({\"Coefficients\": model.params, \"p\": model.pvalues, \"vif\": vif[\"vif\"]})\n",
    "# df_coeffs = df_coeffs.drop(\"const\", axis=0)\n",
    "\n",
    "df_coeffs.style.bar(subset = [\"Coefficients\", \"p\", \"vif\"], align='mid', color=['#d65f5f', '#5fba7d'])\n",
    "df_coeffs"
   ]
  },
  {
   "cell_type": "code",
   "execution_count": 2,
   "metadata": {
    "colab": {
     "base_uri": "https://localhost:8080/",
     "height": 176
    },
    "colab_type": "code",
    "id": "GHzg3alz6wpS",
    "outputId": "f572f640-3ab9-40d7-c10a-f369b3e9967d"
   },
   "outputs": [
    {
     "name": "stderr",
     "output_type": "stream",
     "text": [
      "/usr/local/lib/python3.6/dist-packages/statsmodels/tools/_testing.py:19: FutureWarning: pandas.util.testing is deprecated. Use the functions in the public API at pandas.testing instead.\n",
      "  import pandas.util.testing as tm\n"
     ]
    },
    {
     "name": "stdout",
     "output_type": "stream",
     "text": [
      "(8077794, 10) (8077794,)\n",
      "[    0    13    26 ...  6816  3868 10791]\n",
      "420\n",
      "(7000, 10) (3000, 10) (7000,) (3000,)\n",
      "time to fit RF 25.852219863\n",
      "accuracy score 0.6233333333333333\n"
     ]
    }
   ],
   "source": [
    "import time\n",
    "import numpy as np \n",
    "import pandas as pd \n",
    "import matplotlib.pyplot as plt\n",
    "from matplotlib.pyplot import figure\n",
    "import seaborn as sns\n",
    "from sklearn import preprocessing\n",
    "from sklearn.preprocessing import LabelEncoder\n",
    "from sklearn.preprocessing import StandardScaler\n",
    "from sklearn.model_selection import train_test_split\n",
    "from sklearn.metrics import classification_report,confusion_matrix,accuracy_score,recall_score\n",
    "from sklearn.ensemble import RandomForestClassifier\n",
    "\n",
    "print(X.shape,Y.shape)\n",
    "print(Y.unique())\n",
    "X_RF=X[:10000]\n",
    "Y_RF=Y[:10000]\n",
    "print(len(Y_RF.unique()))\n",
    "Y_RF = LabelEncoder().fit_transform(Y_RF)\n",
    "X_RF = StandardScaler().fit_transform(X_RF)\n",
    "\n",
    "# print(len(X[0]))\n",
    "# X_RF=X_RF[:10000]\n",
    "# Y_RF=Y_RF[:10000]\n",
    "\n",
    "\n",
    "\n",
    "def forest_test(X, Y):\n",
    "    X_Train, X_Test, Y_Train, Y_Test = train_test_split(X, Y, \n",
    "                                                        test_size = 0.30, \n",
    "                                                        random_state = 42)\n",
    "    print(X_Train.shape,X_Test.shape,Y_Train.shape, Y_Test.shape)\n",
    "    start = time.process_time()\n",
    "    trainedforest = RandomForestClassifier(n_estimators=500,random_state=1).fit(X_Train,Y_Train)\n",
    "    print('time to fit RF',time.process_time() - start)\n",
    "    predictionforest = trainedforest.predict(X_Test)\n",
    "    print('accuracy score',accuracy_score(Y_Test,predictionforest))\n",
    "    # print('recall score', recall_score(Y_Test,predictionforest,average='micro'))\n",
    "    # print(confusion_matrix(Y_Test,predictionforest))\n",
    "    # print(classification_report(Y_Test,predictionforest))\n",
    "\n",
    "forest_test(X_RF, Y_RF)"
   ]
  },
  {
   "cell_type": "code",
   "execution_count": null,
   "metadata": {
    "colab": {
     "base_uri": "https://localhost:8080/",
     "height": 106
    },
    "colab_type": "code",
    "id": "08AFzhf7DbPq",
    "outputId": "dab7efd5-4498-4200-b013-6e40195d94eb"
   },
   "outputs": [
    {
     "name": "stdout",
     "output_type": "stream",
     "text": [
      "420\n",
      "(10000, 10) (10000,)\n"
     ]
    },
    {
     "name": "stderr",
     "output_type": "stream",
     "text": [
      "/usr/local/lib/python3.6/dist-packages/sklearn/model_selection/_split.py:667: UserWarning: The least populated class in y has only 1 members, which is less than n_splits=5.\n",
      "  % (min_groups, self.n_splits)), UserWarning)\n"
     ]
    }
   ],
   "source": [
    "# import joblib\n",
    "# import pandas as pd\n",
    "# from sklearn.ensemble import RandomForestClassifier\n",
    "# from sklearn.model_selection import GridSearchCV\n",
    "# import warnings\n",
    "# warnings.filterwarnings('ignore', category=FutureWarning)\n",
    "# warnings.filterwarnings('ignore', category=DeprecationWarning)\n",
    "# from sklearn.preprocessing import LabelEncoder\n",
    "# from sklearn.preprocessing import StandardScaler\n",
    "\n",
    "# X_RF=X[:10000]\n",
    "# Y_RF=Y[:10000]\n",
    "# print(len(Y_RF.unique()))\n",
    "# Y_RF = LabelEncoder().fit_transform(Y_RF)\n",
    "# X_RF = StandardScaler().fit_transform(X_RF)\n",
    "\n",
    "# def print_results(results):\n",
    "#     print('BEST PARAMS: {}\\n'.format(results.best_params_))\n",
    "\n",
    "#     means = results.cv_results_['mean_test_score']\n",
    "#     stds = results.cv_results_['std_test_score']\n",
    "#     for mean, std, params in zip(means, stds, results.cv_results_['params']):\n",
    "#         print('{} (+/-{}) for {}'.format(round(mean, 3), round(std * 2, 3), params))\n",
    "\n",
    "# rf = RandomForestClassifier()\n",
    "# parameters = {\n",
    "#     'n_estimators': [250,500],\n",
    "#     # 'max_depth': [8, 16, 32, None]\n",
    "# }\n",
    "\n",
    "# print(X_RF.shape,Y_RF.shape)\n",
    "# cv = GridSearchCV(rf, parameters, cv=5)\n",
    "# cv.fit(X_RF, Y_RF)\n",
    "\n",
    "# print_results(cv)\n"
   ]
  },
  {
   "cell_type": "code",
   "execution_count": 11,
   "metadata": {
    "colab": {
     "base_uri": "https://localhost:8080/",
     "height": 104
    },
    "colab_type": "code",
    "id": "tvqFfpUsRrHI",
    "outputId": "4c7127f1-50f4-4ad0-bc82-1d9ed5c87dd1"
   },
   "outputs": [
    {
     "name": "stdout",
     "output_type": "stream",
     "text": [
      "(5654455, 10) (2423339, 10) (5654455,) (2423339,)\n",
      "Time to fit model 1.6940796250000005\n",
      "Return the coefficient of determination R^2 of the prediction. 0.829673768373932\n",
      "Mean squared log error MSLE 3.5612113242821137\n"
     ]
    },
    {
     "data": {
      "text/plain": [
       "array([0.7327294 , 0.72533973, 0.85255705, 0.81285665, 0.76812381])"
      ]
     },
     "execution_count": 11,
     "metadata": {
      "tags": []
     },
     "output_type": "execute_result"
    }
   ],
   "source": [
    "#Linear Regression\n",
    "from sklearn import metrics\n",
    "import time\n",
    "import numpy as np \n",
    "import pandas as pd \n",
    "import matplotlib.pyplot as plt\n",
    "from sklearn import metrics\n",
    "from sklearn.linear_model import LinearRegression\n",
    "from sklearn.model_selection import train_test_split\n",
    "from sklearn.model_selection import cross_val_score\n",
    "X_Train, X_Test, Y_Train, Y_Test = train_test_split(X, Y, \n",
    "                                                        test_size = 0.30, \n",
    "                                                        random_state = 42)\n",
    "print(X_Train.shape,X_Test.shape,Y_Train.shape, Y_Test.shape)\n",
    "start = time.process_time()\n",
    "model=LinearRegression()\n",
    "model.fit(X_Train,Y_Train)\n",
    "print('Time to fit model',time.process_time() - start)\n",
    "predictions=model.predict(X_Test)\n",
    "print('Return the coefficient of determination R^2 of the prediction.',model.score(X_Test,Y_Test))\n",
    "print('Mean squared log error MSLE',metrics.mean_squared_log_error(Y_Test,predictions))\n",
    "# plt.scatter(Y_Test,predictions)\n",
    "# plt.xlabel(\"Actual Retweets\")\n",
    "# plt.ylabel(\"Predicted Retweets\")\n",
    "# plt.show()\n",
    "\n",
    "#k-fold cross validation\n",
    "model=LinearRegression()\n",
    "cv_4_results = cross_val_score(model, X, Y, cv=5)\n",
    "cv_4_results\n"
   ]
  },
  {
   "cell_type": "code",
   "execution_count": 8,
   "metadata": {
    "colab": {
     "base_uri": "https://localhost:8080/",
     "height": 86
    },
    "colab_type": "code",
    "id": "SmFqQxcHV5gJ",
    "outputId": "bd47f9a6-5487-4a5a-d7ab-341662ddd9b3"
   },
   "outputs": [
    {
     "name": "stdout",
     "output_type": "stream",
     "text": [
      "(70000, 10) (30000, 10) (70000,) (30000,)\n",
      "Time to fit model 45.455493115000024\n",
      "Return the coefficient of determination R^2 of the prediction. 0.4157344650943916\n",
      "Mean squared log error MSLE 0.2517106097499519\n"
     ]
    }
   ],
   "source": [
    "from sklearn.ensemble import RandomForestClassifier, RandomForestRegressor\n",
    "from sklearn import metrics\n",
    "import time\n",
    "from sklearn.model_selection import train_test_split\n",
    "# print(RandomForestClassifier())\n",
    "# print(RandomForestRegressor())\n",
    "\n",
    "X_RF=X[:100000]\n",
    "Y_RF=Y[:100000]\n",
    "\n",
    "X_Train, X_Test, Y_Train, Y_Test = train_test_split(X_RF, Y_RF, \n",
    "                                                        test_size = 0.30, \n",
    "                                                        random_state = 42)\n",
    "print(X_Train.shape,X_Test.shape,Y_Train.shape, Y_Test.shape)\n",
    "start = time.process_time()\n",
    "model=RandomForestRegressor()\n",
    "model.fit(X_Train,Y_Train)\n",
    "print('Time to fit model',time.process_time() - start)\n",
    "predictions=model.predict(X_Test)\n",
    "print('Return the coefficient of determination R^2 of the prediction.',model.score(X_Test,Y_Test))\n",
    "print('Mean squared log error MSLE',metrics.mean_squared_log_error(Y_Test,predictions))"
   ]
  }
 ],
 "metadata": {
  "accelerator": "TPU",
  "colab": {
   "collapsed_sections": [],
   "name": "Untitled0.ipynb",
   "provenance": []
  },
  "kernelspec": {
   "display_name": "Python 3",
   "language": "python",
   "name": "python3"
  },
  "language_info": {
   "codemirror_mode": {
    "name": "ipython",
    "version": 3
   },
   "file_extension": ".py",
   "mimetype": "text/x-python",
   "name": "python",
   "nbconvert_exporter": "python",
   "pygments_lexer": "ipython3",
   "version": "3.6.5"
  }
 },
 "nbformat": 4,
 "nbformat_minor": 1
}
