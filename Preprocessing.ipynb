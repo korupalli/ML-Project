{
  "nbformat": 4,
  "nbformat_minor": 0,
  "metadata": {
    "colab": {
      "name": "Preprocessing.ipynb",
      "provenance": [],
      "collapsed_sections": [],
      "mount_file_id": "1YOdH1Kmbywk1fwJ3g5VwiJ4n-8LsEuLz",
      "authorship_tag": "ABX9TyO30+kTJWtHY53JDEVa8ZPJ",
      "include_colab_link": true
    },
    "kernelspec": {
      "name": "python3",
      "display_name": "Python 3"
    }
  },
  "cells": [
    {
      "cell_type": "markdown",
      "metadata": {
        "id": "view-in-github",
        "colab_type": "text"
      },
      "source": [
        "<a href=\"https://colab.research.google.com/github/korupalli/ML-Project/blob/master/Preprocessing.ipynb\" target=\"_parent\"><img src=\"https://colab.research.google.com/assets/colab-badge.svg\" alt=\"Open In Colab\"/></a>"
      ]
    },
    {
      "cell_type": "code",
      "metadata": {
        "id": "Wg3mJ8E7cSYy",
        "colab_type": "code",
        "colab": {}
      },
      "source": [
        "import pandas as pd\n",
        "import numpy as np"
      ],
      "execution_count": 12,
      "outputs": []
    },
    {
      "cell_type": "markdown",
      "metadata": {
        "id": "-qq0rKu8Ao9J",
        "colab_type": "text"
      },
      "source": [
        "data = pd.read_csv('/content/drive/My Drive/Colab Notebooks/TweetsCOV19.tsv',sep = '\\t',skiprows = list(range(4467891,8935782)),usecols=range(11),iterator=True, chunksize=4460000)\n",
        "df = pd.concat(data, ignore_index=True)\n",
        "data2 = pd.read_csv('/content/drive/My Drive/Colab Notebooks/TweetsCOV19.tsv',sep = '\\t',skiprows = list(range(4467891)),usecols=range(11),iterator=True, chunksize=4460000)\n",
        "df2 = pd.concat(data2, ignore_index=True)\n",
        "frame = pd.concat([df,df2])"
      ]
    },
    {
      "cell_type": "code",
      "metadata": {
        "id": "aWBemLni6f0A",
        "colab_type": "code",
        "colab": {}
      },
      "source": [
        "frame = pd.concat([pd.read_csv('/content/drive/My Drive/Colab Notebooks/TweetsCOV19.tsv',sep = '\\t',skiprows = list(range(4467891,8935782)),usecols=range(11),header=None),pd.read_csv('/content/drive/My Drive/Colab Notebooks/TweetsCOV19.tsv',sep = '\\t',skiprows = list(range(4467891)),usecols=range(11),header=None)])\n",
        "\n",
        "frame.columns = ['Tweet Id', 'Username', 'Timestamp', 'Followers', 'Friends', 'Retweets', 'Favorites', 'Entities', 'Sentiment', 'Mentions', 'Hashtags']"
      ],
      "execution_count": null,
      "outputs": []
    },
    {
      "cell_type": "code",
      "metadata": {
        "id": "y_ATZGz3JZYb",
        "colab_type": "code",
        "colab": {}
      },
      "source": [
        "frame['Timestamp'] = frame.Timestamp.apply(lambda x: x.split())"
      ],
      "execution_count": null,
      "outputs": []
    },
    {
      "cell_type": "code",
      "metadata": {
        "id": "HZNMKeCMP9HM",
        "colab_type": "code",
        "colab": {}
      },
      "source": [
        "frame['Day'] = frame.Timestamp.apply(lambda x: x[0])"
      ],
      "execution_count": null,
      "outputs": []
    },
    {
      "cell_type": "code",
      "metadata": {
        "id": "iQprsDRxRuv3",
        "colab_type": "code",
        "colab": {}
      },
      "source": [
        "frame['Month'] = frame.Timestamp.apply(lambda x: x[1])\n",
        "frame['Date'] = frame.Timestamp.apply(lambda x: x[2])\n",
        "frame['Time'] = frame.Timestamp.apply(lambda x: x[3].split(':')[0])\n",
        "frame['Year'] = frame.Timestamp.apply(lambda x: x[5])"
      ],
      "execution_count": null,
      "outputs": []
    },
    {
      "cell_type": "code",
      "metadata": {
        "id": "ieIcK0HXTMRG",
        "colab_type": "code",
        "colab": {}
      },
      "source": [
        "frame['Pos'] = frame.Sentiment.apply(lambda x: int(x.split()[0]))"
      ],
      "execution_count": null,
      "outputs": []
    },
    {
      "cell_type": "code",
      "metadata": {
        "id": "Oneu8jzHURO6",
        "colab_type": "code",
        "colab": {}
      },
      "source": [
        "frame['Neg'] = frame.Sentiment.apply(lambda x: int(x.split()[1]))"
      ],
      "execution_count": null,
      "outputs": []
    },
    {
      "cell_type": "code",
      "metadata": {
        "id": "h-UQ_KUVU3TC",
        "colab_type": "code",
        "colab": {}
      },
      "source": [
        "frame = frame.drop(columns=['Timestamp','Entities','Username','Sentiment'])"
      ],
      "execution_count": null,
      "outputs": []
    },
    {
      "cell_type": "code",
      "metadata": {
        "id": "aFil2-y2VBMf",
        "colab_type": "code",
        "colab": {}
      },
      "source": [
        "frame.replace('null;', np.NaN,inplace=True)"
      ],
      "execution_count": null,
      "outputs": []
    },
    {
      "cell_type": "code",
      "metadata": {
        "id": "nGyQhWROWiQ5",
        "colab_type": "code",
        "colab": {}
      },
      "source": [
        "frame.Hashtags.loc[pd.notnull(frame.Hashtags)]"
      ],
      "execution_count": null,
      "outputs": []
    },
    {
      "cell_type": "code",
      "metadata": {
        "id": "vqYY5gxkSvej",
        "colab_type": "code",
        "colab": {
          "base_uri": "https://localhost:8080/",
          "height": 34
        },
        "outputId": "66331b8f-d9ea-4a07-d29c-38bc687005f0"
      },
      "source": [
        "from google.colab import drive\n",
        "drive.mount('drive')"
      ],
      "execution_count": null,
      "outputs": [
        {
          "output_type": "stream",
          "text": [
            "Drive already mounted at drive; to attempt to forcibly remount, call drive.mount(\"drive\", force_remount=True).\n"
          ],
          "name": "stdout"
        }
      ]
    },
    {
      "cell_type": "code",
      "metadata": {
        "id": "gRwlhHK9TQk2",
        "colab_type": "code",
        "colab": {}
      },
      "source": [
        "frame.to_csv('data.csv')\n",
        "!cp data.csv \"drive/My Drive/Colab Notebooks/\""
      ],
      "execution_count": null,
      "outputs": []
    },
    {
      "cell_type": "code",
      "metadata": {
        "id": "IJQ1znl8UJJW",
        "colab_type": "code",
        "colab": {}
      },
      "source": [
        "frame = pd.read_csv('/content/drive/My Drive/Colab Notebooks/data.csv')"
      ],
      "execution_count": null,
      "outputs": []
    },
    {
      "cell_type": "code",
      "metadata": {
        "id": "n69gC1miUqgp",
        "colab_type": "code",
        "colab": {
          "base_uri": "https://localhost:8080/",
          "height": 34
        },
        "outputId": "651334ad-5506-42da-f702-6e379286bb66"
      },
      "source": [
        "frame.shape"
      ],
      "execution_count": 13,
      "outputs": [
        {
          "output_type": "execute_result",
          "data": {
            "text/plain": [
              "(8077778, 16)"
            ]
          },
          "metadata": {
            "tags": []
          },
          "execution_count": 13
        }
      ]
    },
    {
      "cell_type": "code",
      "metadata": {
        "id": "dJe-kRYwUyRS",
        "colab_type": "code",
        "colab": {
          "base_uri": "https://localhost:8080/",
          "height": 232
        },
        "outputId": "d66ded26-824c-4dec-a167-6600879ba57e"
      },
      "source": [
        "frame.head()"
      ],
      "execution_count": 16,
      "outputs": [
        {
          "output_type": "execute_result",
          "data": {
            "text/html": [
              "<div>\n",
              "<style scoped>\n",
              "    .dataframe tbody tr th:only-of-type {\n",
              "        vertical-align: middle;\n",
              "    }\n",
              "\n",
              "    .dataframe tbody tr th {\n",
              "        vertical-align: top;\n",
              "    }\n",
              "\n",
              "    .dataframe thead th {\n",
              "        text-align: right;\n",
              "    }\n",
              "</style>\n",
              "<table border=\"1\" class=\"dataframe\">\n",
              "  <thead>\n",
              "    <tr style=\"text-align: right;\">\n",
              "      <th></th>\n",
              "      <th>Unnamed: 0</th>\n",
              "      <th>Tweet Id</th>\n",
              "      <th>Followers</th>\n",
              "      <th>Friends</th>\n",
              "      <th>Retweets</th>\n",
              "      <th>Favorites</th>\n",
              "      <th>Mentions</th>\n",
              "      <th>Hashtags</th>\n",
              "      <th>Day</th>\n",
              "      <th>Month</th>\n",
              "      <th>Date</th>\n",
              "      <th>Time</th>\n",
              "      <th>Year</th>\n",
              "      <th>Pos</th>\n",
              "      <th>Neg</th>\n",
              "      <th>Mentions_count</th>\n",
              "      <th>Hashtags_count</th>\n",
              "    </tr>\n",
              "  </thead>\n",
              "  <tbody>\n",
              "    <tr>\n",
              "      <th>0</th>\n",
              "      <td>0</td>\n",
              "      <td>1178791787386814465</td>\n",
              "      <td>619</td>\n",
              "      <td>770</td>\n",
              "      <td>0</td>\n",
              "      <td>0</td>\n",
              "      <td>0</td>\n",
              "      <td>0</td>\n",
              "      <td>Mon</td>\n",
              "      <td>Sep</td>\n",
              "      <td>30</td>\n",
              "      <td>22</td>\n",
              "      <td>2019</td>\n",
              "      <td>2</td>\n",
              "      <td>-1</td>\n",
              "      <td>0</td>\n",
              "      <td>0</td>\n",
              "    </tr>\n",
              "    <tr>\n",
              "      <th>1</th>\n",
              "      <td>1</td>\n",
              "      <td>1178791985106153472</td>\n",
              "      <td>36365</td>\n",
              "      <td>19344</td>\n",
              "      <td>13</td>\n",
              "      <td>17</td>\n",
              "      <td>0</td>\n",
              "      <td>0</td>\n",
              "      <td>Mon</td>\n",
              "      <td>Sep</td>\n",
              "      <td>30</td>\n",
              "      <td>22</td>\n",
              "      <td>2019</td>\n",
              "      <td>1</td>\n",
              "      <td>-4</td>\n",
              "      <td>0</td>\n",
              "      <td>0</td>\n",
              "    </tr>\n",
              "    <tr>\n",
              "      <th>2</th>\n",
              "      <td>2</td>\n",
              "      <td>1178793230223183872</td>\n",
              "      <td>5018</td>\n",
              "      <td>1933</td>\n",
              "      <td>0</td>\n",
              "      <td>0</td>\n",
              "      <td>0</td>\n",
              "      <td>0</td>\n",
              "      <td>Mon</td>\n",
              "      <td>Sep</td>\n",
              "      <td>30</td>\n",
              "      <td>22</td>\n",
              "      <td>2019</td>\n",
              "      <td>2</td>\n",
              "      <td>-1</td>\n",
              "      <td>0</td>\n",
              "      <td>0</td>\n",
              "    </tr>\n",
              "    <tr>\n",
              "      <th>3</th>\n",
              "      <td>3</td>\n",
              "      <td>1178795172206919680</td>\n",
              "      <td>2219</td>\n",
              "      <td>971</td>\n",
              "      <td>0</td>\n",
              "      <td>0</td>\n",
              "      <td>0</td>\n",
              "      <td>0</td>\n",
              "      <td>Mon</td>\n",
              "      <td>Sep</td>\n",
              "      <td>30</td>\n",
              "      <td>22</td>\n",
              "      <td>2019</td>\n",
              "      <td>2</td>\n",
              "      <td>-1</td>\n",
              "      <td>0</td>\n",
              "      <td>0</td>\n",
              "    </tr>\n",
              "    <tr>\n",
              "      <th>4</th>\n",
              "      <td>4</td>\n",
              "      <td>1178798309491822592</td>\n",
              "      <td>9009</td>\n",
              "      <td>4943</td>\n",
              "      <td>26</td>\n",
              "      <td>89</td>\n",
              "      <td>0</td>\n",
              "      <td>VFS</td>\n",
              "      <td>Mon</td>\n",
              "      <td>Sep</td>\n",
              "      <td>30</td>\n",
              "      <td>22</td>\n",
              "      <td>2019</td>\n",
              "      <td>2</td>\n",
              "      <td>-1</td>\n",
              "      <td>0</td>\n",
              "      <td>1</td>\n",
              "    </tr>\n",
              "  </tbody>\n",
              "</table>\n",
              "</div>"
            ],
            "text/plain": [
              "   Unnamed: 0             Tweet Id  ...  Mentions_count  Hashtags_count\n",
              "0           0  1178791787386814465  ...               0               0\n",
              "1           1  1178791985106153472  ...               0               0\n",
              "2           2  1178793230223183872  ...               0               0\n",
              "3           3  1178795172206919680  ...               0               0\n",
              "4           4  1178798309491822592  ...               0               1\n",
              "\n",
              "[5 rows x 17 columns]"
            ]
          },
          "metadata": {
            "tags": []
          },
          "execution_count": 16
        }
      ]
    },
    {
      "cell_type": "markdown",
      "metadata": {
        "id": "b8T3jx0W-Esv",
        "colab_type": "text"
      },
      "source": [
        "Code for getting mentions_count"
      ]
    },
    {
      "cell_type": "code",
      "metadata": {
        "id": "Yl1rg2jn1vVS",
        "colab_type": "code",
        "colab": {}
      },
      "source": [
        "frame = pd.read_csv('/content/drive/My Drive/Colab Notebooks/data.csv')\n",
        "frame.Mentions.replace(np.NaN,0,inplace=True)"
      ],
      "execution_count": null,
      "outputs": []
    },
    {
      "cell_type": "code",
      "metadata": {
        "id": "U4wF3o_30n6s",
        "colab_type": "code",
        "colab": {}
      },
      "source": [
        "arr = np.array(frame.Mentions[frame.Mentions != 0].str.split().apply(lambda x: np.array(x,dtype=object)))"
      ],
      "execution_count": null,
      "outputs": []
    },
    {
      "cell_type": "code",
      "metadata": {
        "id": "mPhH_STV830U",
        "colab_type": "code",
        "colab": {}
      },
      "source": [
        "pd.Series(np.concatenate(arr)).value_counts().to_csv('Mentions_count.csv')\n",
        "!cp Mentions_count.csv \"drive/My Drive/Colab Notebooks/\""
      ],
      "execution_count": null,
      "outputs": []
    },
    {
      "cell_type": "code",
      "metadata": {
        "id": "Wd8rAxcRw1VS",
        "colab_type": "code",
        "colab": {}
      },
      "source": [
        "#Code for hashtag count\n",
        "arr = np.array(frame.Hashtags[frame.Hashtags != 0].str.split().apply(lambda x: np.array(x,dtype=object)))\n",
        "\n",
        "pd.Series(np.concatenate(arr)).value_counts().to_csv('Hashtags_count.csv')\n",
        "!cp Hashtags_count.csv \"drive/My Drive/Colab Notebooks/\""
      ],
      "execution_count": 17,
      "outputs": []
    },
    {
      "cell_type": "code",
      "metadata": {
        "id": "J3kPCLFVdjUL",
        "colab_type": "code",
        "colab": {}
      },
      "source": [
        ""
      ],
      "execution_count": null,
      "outputs": []
    }
  ]
}