{
  "nbformat": 4,
  "nbformat_minor": 0,
  "metadata": {
    "colab": {
      "name": "Untitled1.ipynb",
      "provenance": [],
      "collapsed_sections": [],
      "mount_file_id": "1_IGjfzhlDflQOEINnpikLyrbSrATG3hb",
      "authorship_tag": "ABX9TyN7mvHUtJANE9vs/n6+YlJh",
      "include_colab_link": true
    },
    "kernelspec": {
      "name": "python3",
      "display_name": "Python 3"
    },
    "widgets": {
      "application/vnd.jupyter.widget-state+json": {
        "6f1856d3b01447ee95deb8750868c862": {
          "model_module": "@jupyter-widgets/controls",
          "model_name": "HBoxModel",
          "state": {
            "_view_name": "HBoxView",
            "_dom_classes": [],
            "_model_name": "HBoxModel",
            "_view_module": "@jupyter-widgets/controls",
            "_model_module_version": "1.5.0",
            "_view_count": null,
            "_view_module_version": "1.5.0",
            "box_style": "",
            "layout": "IPY_MODEL_f4c8e67d17834e1780dc6a428b90f0b1",
            "_model_module": "@jupyter-widgets/controls",
            "children": [
              "IPY_MODEL_3686b6f8a91e41cb9b4065171cef68bf",
              "IPY_MODEL_f191f40cba6644b8a9e0cf90ded30f74"
            ]
          }
        },
        "f4c8e67d17834e1780dc6a428b90f0b1": {
          "model_module": "@jupyter-widgets/base",
          "model_name": "LayoutModel",
          "state": {
            "_view_name": "LayoutView",
            "grid_template_rows": null,
            "right": null,
            "justify_content": null,
            "_view_module": "@jupyter-widgets/base",
            "overflow": null,
            "_model_module_version": "1.2.0",
            "_view_count": null,
            "flex_flow": null,
            "width": null,
            "min_width": null,
            "border": null,
            "align_items": null,
            "bottom": null,
            "_model_module": "@jupyter-widgets/base",
            "top": null,
            "grid_column": null,
            "overflow_y": null,
            "overflow_x": null,
            "grid_auto_flow": null,
            "grid_area": null,
            "grid_template_columns": null,
            "flex": null,
            "_model_name": "LayoutModel",
            "justify_items": null,
            "grid_row": null,
            "max_height": null,
            "align_content": null,
            "visibility": null,
            "align_self": null,
            "height": null,
            "min_height": null,
            "padding": null,
            "grid_auto_rows": null,
            "grid_gap": null,
            "max_width": null,
            "order": null,
            "_view_module_version": "1.2.0",
            "grid_template_areas": null,
            "object_position": null,
            "object_fit": null,
            "grid_auto_columns": null,
            "margin": null,
            "display": null,
            "left": null
          }
        },
        "3686b6f8a91e41cb9b4065171cef68bf": {
          "model_module": "@jupyter-widgets/controls",
          "model_name": "FloatProgressModel",
          "state": {
            "_view_name": "ProgressView",
            "style": "IPY_MODEL_fb8deed7bbe34b1987c210803e382ff7",
            "_dom_classes": [],
            "description": "Example Desc: 100%",
            "_model_name": "FloatProgressModel",
            "bar_style": "success",
            "max": 11735,
            "_view_module": "@jupyter-widgets/controls",
            "_model_module_version": "1.5.0",
            "value": 11735,
            "_view_count": null,
            "_view_module_version": "1.5.0",
            "orientation": "horizontal",
            "min": 0,
            "description_tooltip": null,
            "_model_module": "@jupyter-widgets/controls",
            "layout": "IPY_MODEL_8de883fd85b540529b6563e749470fa6"
          }
        },
        "f191f40cba6644b8a9e0cf90ded30f74": {
          "model_module": "@jupyter-widgets/controls",
          "model_name": "HTMLModel",
          "state": {
            "_view_name": "HTMLView",
            "style": "IPY_MODEL_dc0849f4d25144d1bddcd91c0a75f59b",
            "_dom_classes": [],
            "description": "",
            "_model_name": "HTMLModel",
            "placeholder": "​",
            "_view_module": "@jupyter-widgets/controls",
            "_model_module_version": "1.5.0",
            "value": " 11735/11735 [03:10&lt;00:00, 61.45it/s]",
            "_view_count": null,
            "_view_module_version": "1.5.0",
            "description_tooltip": null,
            "_model_module": "@jupyter-widgets/controls",
            "layout": "IPY_MODEL_42ebad4168524170b7f8e34450f48b7a"
          }
        },
        "fb8deed7bbe34b1987c210803e382ff7": {
          "model_module": "@jupyter-widgets/controls",
          "model_name": "ProgressStyleModel",
          "state": {
            "_view_name": "StyleView",
            "_model_name": "ProgressStyleModel",
            "description_width": "initial",
            "_view_module": "@jupyter-widgets/base",
            "_model_module_version": "1.5.0",
            "_view_count": null,
            "_view_module_version": "1.2.0",
            "bar_color": null,
            "_model_module": "@jupyter-widgets/controls"
          }
        },
        "8de883fd85b540529b6563e749470fa6": {
          "model_module": "@jupyter-widgets/base",
          "model_name": "LayoutModel",
          "state": {
            "_view_name": "LayoutView",
            "grid_template_rows": null,
            "right": null,
            "justify_content": null,
            "_view_module": "@jupyter-widgets/base",
            "overflow": null,
            "_model_module_version": "1.2.0",
            "_view_count": null,
            "flex_flow": null,
            "width": null,
            "min_width": null,
            "border": null,
            "align_items": null,
            "bottom": null,
            "_model_module": "@jupyter-widgets/base",
            "top": null,
            "grid_column": null,
            "overflow_y": null,
            "overflow_x": null,
            "grid_auto_flow": null,
            "grid_area": null,
            "grid_template_columns": null,
            "flex": null,
            "_model_name": "LayoutModel",
            "justify_items": null,
            "grid_row": null,
            "max_height": null,
            "align_content": null,
            "visibility": null,
            "align_self": null,
            "height": null,
            "min_height": null,
            "padding": null,
            "grid_auto_rows": null,
            "grid_gap": null,
            "max_width": null,
            "order": null,
            "_view_module_version": "1.2.0",
            "grid_template_areas": null,
            "object_position": null,
            "object_fit": null,
            "grid_auto_columns": null,
            "margin": null,
            "display": null,
            "left": null
          }
        },
        "dc0849f4d25144d1bddcd91c0a75f59b": {
          "model_module": "@jupyter-widgets/controls",
          "model_name": "DescriptionStyleModel",
          "state": {
            "_view_name": "StyleView",
            "_model_name": "DescriptionStyleModel",
            "description_width": "",
            "_view_module": "@jupyter-widgets/base",
            "_model_module_version": "1.5.0",
            "_view_count": null,
            "_view_module_version": "1.2.0",
            "_model_module": "@jupyter-widgets/controls"
          }
        },
        "42ebad4168524170b7f8e34450f48b7a": {
          "model_module": "@jupyter-widgets/base",
          "model_name": "LayoutModel",
          "state": {
            "_view_name": "LayoutView",
            "grid_template_rows": null,
            "right": null,
            "justify_content": null,
            "_view_module": "@jupyter-widgets/base",
            "overflow": null,
            "_model_module_version": "1.2.0",
            "_view_count": null,
            "flex_flow": null,
            "width": null,
            "min_width": null,
            "border": null,
            "align_items": null,
            "bottom": null,
            "_model_module": "@jupyter-widgets/base",
            "top": null,
            "grid_column": null,
            "overflow_y": null,
            "overflow_x": null,
            "grid_auto_flow": null,
            "grid_area": null,
            "grid_template_columns": null,
            "flex": null,
            "_model_name": "LayoutModel",
            "justify_items": null,
            "grid_row": null,
            "max_height": null,
            "align_content": null,
            "visibility": null,
            "align_self": null,
            "height": null,
            "min_height": null,
            "padding": null,
            "grid_auto_rows": null,
            "grid_gap": null,
            "max_width": null,
            "order": null,
            "_view_module_version": "1.2.0",
            "grid_template_areas": null,
            "object_position": null,
            "object_fit": null,
            "grid_auto_columns": null,
            "margin": null,
            "display": null,
            "left": null
          }
        }
      }
    }
  },
  "cells": [
    {
      "cell_type": "markdown",
      "metadata": {
        "id": "view-in-github",
        "colab_type": "text"
      },
      "source": [
        "<a href=\"https://colab.research.google.com/github/korupalli/ML-Project/blob/master/balancing.ipynb\" target=\"_parent\"><img src=\"https://colab.research.google.com/assets/colab-badge.svg\" alt=\"Open In Colab\"/></a>"
      ]
    },
    {
      "cell_type": "code",
      "metadata": {
        "id": "FtYUGIt4d54F",
        "colab_type": "code",
        "colab": {}
      },
      "source": [
        "import pandas as pd\n",
        "import numpy as np\n",
        "from sklearn import preprocessing\n",
        "from tqdm import tqdm"
      ],
      "execution_count": 70,
      "outputs": []
    },
    {
      "cell_type": "code",
      "metadata": {
        "id": "UaEv-bsud-2k",
        "colab_type": "code",
        "colab": {}
      },
      "source": [
        "frame = pd.read_csv('/content/drive/My Drive/Colab Notebooks/data.csv')\n",
        "frame.Mentions.replace(np.NaN,0,inplace=True)"
      ],
      "execution_count": 3,
      "outputs": []
    },
    {
      "cell_type": "code",
      "metadata": {
        "id": "L4dgohb_e8wc",
        "colab_type": "code",
        "colab": {
          "base_uri": "https://localhost:8080/",
          "height": 195
        },
        "outputId": "c0eb7ca2-c6cd-4c02-82d8-f4b7a7cf9811"
      },
      "source": [
        "frame.head()"
      ],
      "execution_count": 11,
      "outputs": [
        {
          "output_type": "execute_result",
          "data": {
            "text/html": [
              "<div>\n",
              "<style scoped>\n",
              "    .dataframe tbody tr th:only-of-type {\n",
              "        vertical-align: middle;\n",
              "    }\n",
              "\n",
              "    .dataframe tbody tr th {\n",
              "        vertical-align: top;\n",
              "    }\n",
              "\n",
              "    .dataframe thead th {\n",
              "        text-align: right;\n",
              "    }\n",
              "</style>\n",
              "<table border=\"1\" class=\"dataframe\">\n",
              "  <thead>\n",
              "    <tr style=\"text-align: right;\">\n",
              "      <th></th>\n",
              "      <th>Tweet Id</th>\n",
              "      <th>Followers</th>\n",
              "      <th>Friends</th>\n",
              "      <th>Retweets</th>\n",
              "      <th>Favorites</th>\n",
              "      <th>Mentions</th>\n",
              "      <th>Hashtags</th>\n",
              "      <th>Day</th>\n",
              "      <th>Month</th>\n",
              "      <th>Date</th>\n",
              "      <th>Time</th>\n",
              "      <th>Year</th>\n",
              "      <th>Pos</th>\n",
              "      <th>Neg</th>\n",
              "    </tr>\n",
              "  </thead>\n",
              "  <tbody>\n",
              "    <tr>\n",
              "      <th>0</th>\n",
              "      <td>1178791985106153472</td>\n",
              "      <td>36365</td>\n",
              "      <td>19344</td>\n",
              "      <td>13</td>\n",
              "      <td>17</td>\n",
              "      <td>0</td>\n",
              "      <td>NaN</td>\n",
              "      <td>Mon</td>\n",
              "      <td>Sep</td>\n",
              "      <td>30</td>\n",
              "      <td>22</td>\n",
              "      <td>2019</td>\n",
              "      <td>1</td>\n",
              "      <td>-4</td>\n",
              "    </tr>\n",
              "    <tr>\n",
              "      <th>1</th>\n",
              "      <td>1178798309491822592</td>\n",
              "      <td>9009</td>\n",
              "      <td>4943</td>\n",
              "      <td>26</td>\n",
              "      <td>89</td>\n",
              "      <td>0</td>\n",
              "      <td>VFS</td>\n",
              "      <td>Mon</td>\n",
              "      <td>Sep</td>\n",
              "      <td>30</td>\n",
              "      <td>22</td>\n",
              "      <td>2019</td>\n",
              "      <td>2</td>\n",
              "      <td>-1</td>\n",
              "    </tr>\n",
              "    <tr>\n",
              "      <th>2</th>\n",
              "      <td>1178803487037108225</td>\n",
              "      <td>156538</td>\n",
              "      <td>3858</td>\n",
              "      <td>56</td>\n",
              "      <td>131</td>\n",
              "      <td>0</td>\n",
              "      <td>Raiders</td>\n",
              "      <td>Mon</td>\n",
              "      <td>Sep</td>\n",
              "      <td>30</td>\n",
              "      <td>22</td>\n",
              "      <td>2019</td>\n",
              "      <td>1</td>\n",
              "      <td>-1</td>\n",
              "    </tr>\n",
              "    <tr>\n",
              "      <th>3</th>\n",
              "      <td>1178803977376415749</td>\n",
              "      <td>27014</td>\n",
              "      <td>24488</td>\n",
              "      <td>39</td>\n",
              "      <td>37</td>\n",
              "      <td>AOC</td>\n",
              "      <td>NaN</td>\n",
              "      <td>Mon</td>\n",
              "      <td>Sep</td>\n",
              "      <td>30</td>\n",
              "      <td>22</td>\n",
              "      <td>2019</td>\n",
              "      <td>2</td>\n",
              "      <td>-1</td>\n",
              "    </tr>\n",
              "    <tr>\n",
              "      <th>4</th>\n",
              "      <td>1178813521884172288</td>\n",
              "      <td>39568</td>\n",
              "      <td>37514</td>\n",
              "      <td>136</td>\n",
              "      <td>140</td>\n",
              "      <td>0</td>\n",
              "      <td>NaN</td>\n",
              "      <td>Mon</td>\n",
              "      <td>Sep</td>\n",
              "      <td>30</td>\n",
              "      <td>23</td>\n",
              "      <td>2019</td>\n",
              "      <td>2</td>\n",
              "      <td>-1</td>\n",
              "    </tr>\n",
              "  </tbody>\n",
              "</table>\n",
              "</div>"
            ],
            "text/plain": [
              "              Tweet Id  Followers  Friends  Retweets  ...  Time  Year Pos Neg\n",
              "0  1178791985106153472      36365    19344        13  ...    22  2019   1  -4\n",
              "1  1178798309491822592       9009     4943        26  ...    22  2019   2  -1\n",
              "2  1178803487037108225     156538     3858        56  ...    22  2019   1  -1\n",
              "3  1178803977376415749      27014    24488        39  ...    22  2019   2  -1\n",
              "4  1178813521884172288      39568    37514       136  ...    23  2019   2  -1\n",
              "\n",
              "[5 rows x 14 columns]"
            ]
          },
          "metadata": {
            "tags": []
          },
          "execution_count": 11
        }
      ]
    },
    {
      "cell_type": "code",
      "metadata": {
        "id": "JgRSnOlCe-TO",
        "colab_type": "code",
        "colab": {}
      },
      "source": [
        "frame.drop(frame.index[frame[frame['Retweets'] <= 10].index.values], inplace=True)\n",
        "frame.reset_index(inplace=True)"
      ],
      "execution_count": 6,
      "outputs": []
    },
    {
      "cell_type": "code",
      "metadata": {
        "id": "-hXS3dzkfLQ6",
        "colab_type": "code",
        "colab": {}
      },
      "source": [
        "#Dropping duplicated index columns\n",
        "frame.drop(frame.columns[[0, 1]], axis = 1, inplace = True) "
      ],
      "execution_count": 10,
      "outputs": []
    },
    {
      "cell_type": "code",
      "metadata": {
        "id": "0CPHTyouf-y8",
        "colab_type": "code",
        "colab": {}
      },
      "source": [
        "frame['bin'] = pd.cut(frame['Retweets'], [10, 50, 100, 1000, 10000, 275530])"
      ],
      "execution_count": 39,
      "outputs": []
    },
    {
      "cell_type": "code",
      "metadata": {
        "id": "IjwRz8-Pk2QJ",
        "colab_type": "code",
        "colab": {}
      },
      "source": [
        "frame['bin'] = frame.bin.apply(preprocessing.LabelEncoder().fit_transform)"
      ],
      "execution_count": 46,
      "outputs": []
    },
    {
      "cell_type": "code",
      "metadata": {
        "id": "O8HCLc6Cpgv3",
        "colab_type": "code",
        "colab": {
          "base_uri": "https://localhost:8080/",
          "height": 118
        },
        "outputId": "5b17a971-0567-442d-c064-2b5d6ce31138"
      },
      "source": [
        "frame.bin.value_counts()"
      ],
      "execution_count": 50,
      "outputs": [
        {
          "output_type": "execute_result",
          "data": {
            "text/plain": [
              "0    1051868\n",
              "2     471878\n",
              "1     358895\n",
              "3      40149\n",
              "4       2347\n",
              "Name: bin, dtype: int64"
            ]
          },
          "metadata": {
            "tags": []
          },
          "execution_count": 50
        }
      ]
    },
    {
      "cell_type": "code",
      "metadata": {
        "id": "_SFgfjAUp6qk",
        "colab_type": "code",
        "colab": {}
      },
      "source": [
        "df_class_0 = frame[frame['bin'] == 0]\n",
        "df_class_1 = frame[frame['bin'] == 1]\n",
        "df_class_2 = frame[frame['bin'] == 2]\n",
        "df_class_3 = frame[frame['bin'] == 3]\n",
        "df_class_4 = frame[frame['bin'] == 4]"
      ],
      "execution_count": 51,
      "outputs": []
    },
    {
      "cell_type": "code",
      "metadata": {
        "id": "AfbGw4ExqNHI",
        "colab_type": "code",
        "colab": {}
      },
      "source": [
        "df_class_0_under = df_class_0.sample(2347)\n",
        "df_class_1_under = df_class_1.sample(2347)\n",
        "df_class_2_under = df_class_2.sample(2347)\n",
        "df_class_3_under = df_class_3.sample(2347)"
      ],
      "execution_count": 55,
      "outputs": []
    },
    {
      "cell_type": "code",
      "metadata": {
        "id": "MAQPu4sQqW8F",
        "colab_type": "code",
        "colab": {}
      },
      "source": [
        "df = pd.concat([df_class_0_under, df_class_1_under,df_class_2_under,df_class_3_under, df_class_4], axis=0)"
      ],
      "execution_count": 56,
      "outputs": []
    },
    {
      "cell_type": "code",
      "metadata": {
        "id": "AE3v0KCmtK2Q",
        "colab_type": "code",
        "colab": {}
      },
      "source": [
        "frame = df"
      ],
      "execution_count": 60,
      "outputs": []
    },
    {
      "cell_type": "code",
      "metadata": {
        "id": "18r3-aL5riMj",
        "colab_type": "code",
        "colab": {}
      },
      "source": [
        "month_map={'Jan':1, 'Feb':2, 'Mar':3, 'Apr':4, 'May':5, 'Jun':6, 'Jul':7, 'Aug':8, 'Sep':9, 'Oct':10, 'Nov':11 , 'Dec':12}\n",
        "frame.Month = frame.Month.map(month_map)\n",
        "\n",
        "day_map={'Mon':1, 'Tue':2, 'Wed':3, 'Thu':4, 'Fri':5, 'Sat':6, 'Sun':7}\n",
        "frame.Day = frame.Day.map(day_map)\n",
        "\n",
        "frame.Month = frame.Month.astype(np.object)\n",
        "frame.Day = frame.Day.astype(np.object)\n",
        "frame.Date = frame.Date.astype(np.object)\n",
        "frame.Time = frame.Time.astype(np.object)\n",
        "frame.Year = frame.Year.astype(np.object)\n",
        "\n",
        "frame.Mentions.replace(np.NaN,0,inplace=True)\n",
        "frame['Mentions_count'] = frame.Mentions.apply(lambda x:0 if x==0 else len(x.split()))\n",
        "\n",
        "frame.Hashtags.replace(np.NaN,0,inplace=True)\n",
        "frame['Hashtags_count'] = frame.Hashtags.apply(lambda x:0 if x==0 else len(x.split()))\n",
        "\n"
      ],
      "execution_count": 61,
      "outputs": []
    },
    {
      "cell_type": "code",
      "metadata": {
        "id": "nB9CDik-tO0v",
        "colab_type": "code",
        "colab": {
          "base_uri": "https://localhost:8080/",
          "height": 232
        },
        "outputId": "1f5025c6-a4fd-423d-f9b1-8980872bbc30"
      },
      "source": [
        "frame.head()"
      ],
      "execution_count": 65,
      "outputs": [
        {
          "output_type": "execute_result",
          "data": {
            "text/html": [
              "<div>\n",
              "<style scoped>\n",
              "    .dataframe tbody tr th:only-of-type {\n",
              "        vertical-align: middle;\n",
              "    }\n",
              "\n",
              "    .dataframe tbody tr th {\n",
              "        vertical-align: top;\n",
              "    }\n",
              "\n",
              "    .dataframe thead th {\n",
              "        text-align: right;\n",
              "    }\n",
              "</style>\n",
              "<table border=\"1\" class=\"dataframe\">\n",
              "  <thead>\n",
              "    <tr style=\"text-align: right;\">\n",
              "      <th></th>\n",
              "      <th>Tweet Id</th>\n",
              "      <th>Followers</th>\n",
              "      <th>Friends</th>\n",
              "      <th>Retweets</th>\n",
              "      <th>Favorites</th>\n",
              "      <th>Mentions</th>\n",
              "      <th>Hashtags</th>\n",
              "      <th>Day</th>\n",
              "      <th>Month</th>\n",
              "      <th>Date</th>\n",
              "      <th>Time</th>\n",
              "      <th>Year</th>\n",
              "      <th>Pos</th>\n",
              "      <th>Neg</th>\n",
              "      <th>bin</th>\n",
              "      <th>Mentions_count</th>\n",
              "      <th>Hashtags_count</th>\n",
              "    </tr>\n",
              "  </thead>\n",
              "  <tbody>\n",
              "    <tr>\n",
              "      <th>731608</th>\n",
              "      <td>1236770340686069760</td>\n",
              "      <td>8676</td>\n",
              "      <td>1672</td>\n",
              "      <td>16</td>\n",
              "      <td>39</td>\n",
              "      <td>0</td>\n",
              "      <td>0</td>\n",
              "      <td>7</td>\n",
              "      <td>3</td>\n",
              "      <td>8</td>\n",
              "      <td>21</td>\n",
              "      <td>2020</td>\n",
              "      <td>3</td>\n",
              "      <td>-1</td>\n",
              "      <td>0</td>\n",
              "      <td>0</td>\n",
              "      <td>0</td>\n",
              "    </tr>\n",
              "    <tr>\n",
              "      <th>1355468</th>\n",
              "      <td>1251049144749154304</td>\n",
              "      <td>134387</td>\n",
              "      <td>147</td>\n",
              "      <td>18</td>\n",
              "      <td>168</td>\n",
              "      <td>0</td>\n",
              "      <td>0</td>\n",
              "      <td>5</td>\n",
              "      <td>4</td>\n",
              "      <td>17</td>\n",
              "      <td>7</td>\n",
              "      <td>2020</td>\n",
              "      <td>2</td>\n",
              "      <td>-1</td>\n",
              "      <td>0</td>\n",
              "      <td>0</td>\n",
              "      <td>0</td>\n",
              "    </tr>\n",
              "    <tr>\n",
              "      <th>547741</th>\n",
              "      <td>1226623357916995584</td>\n",
              "      <td>217727</td>\n",
              "      <td>230594</td>\n",
              "      <td>22</td>\n",
              "      <td>65</td>\n",
              "      <td>0</td>\n",
              "      <td>0</td>\n",
              "      <td>7</td>\n",
              "      <td>2</td>\n",
              "      <td>9</td>\n",
              "      <td>21</td>\n",
              "      <td>2020</td>\n",
              "      <td>1</td>\n",
              "      <td>-1</td>\n",
              "      <td>0</td>\n",
              "      <td>0</td>\n",
              "      <td>0</td>\n",
              "    </tr>\n",
              "    <tr>\n",
              "      <th>1707419</th>\n",
              "      <td>1248823243261136897</td>\n",
              "      <td>12024</td>\n",
              "      <td>175</td>\n",
              "      <td>17</td>\n",
              "      <td>53</td>\n",
              "      <td>IPRD_Bihar</td>\n",
              "      <td>BiharFightsCorona BiharCares</td>\n",
              "      <td>6</td>\n",
              "      <td>4</td>\n",
              "      <td>11</td>\n",
              "      <td>4</td>\n",
              "      <td>2020</td>\n",
              "      <td>2</td>\n",
              "      <td>-1</td>\n",
              "      <td>0</td>\n",
              "      <td>1</td>\n",
              "      <td>2</td>\n",
              "    </tr>\n",
              "    <tr>\n",
              "      <th>1063240</th>\n",
              "      <td>1239471429764231168</td>\n",
              "      <td>79264</td>\n",
              "      <td>76936</td>\n",
              "      <td>29</td>\n",
              "      <td>73</td>\n",
              "      <td>0</td>\n",
              "      <td>0</td>\n",
              "      <td>1</td>\n",
              "      <td>3</td>\n",
              "      <td>16</td>\n",
              "      <td>8</td>\n",
              "      <td>2020</td>\n",
              "      <td>1</td>\n",
              "      <td>-3</td>\n",
              "      <td>0</td>\n",
              "      <td>0</td>\n",
              "      <td>0</td>\n",
              "    </tr>\n",
              "  </tbody>\n",
              "</table>\n",
              "</div>"
            ],
            "text/plain": [
              "                    Tweet Id  Followers  ...  Mentions_count  Hashtags_count\n",
              "731608   1236770340686069760       8676  ...               0               0\n",
              "1355468  1251049144749154304     134387  ...               0               0\n",
              "547741   1226623357916995584     217727  ...               0               0\n",
              "1707419  1248823243261136897      12024  ...               1               2\n",
              "1063240  1239471429764231168      79264  ...               0               0\n",
              "\n",
              "[5 rows x 17 columns]"
            ]
          },
          "metadata": {
            "tags": []
          },
          "execution_count": 65
        }
      ]
    },
    {
      "cell_type": "markdown",
      "metadata": {
        "id": "Sd6FnftwxYKm",
        "colab_type": "text"
      },
      "source": [
        "**Fing score of each row basing on mentions**"
      ]
    },
    {
      "cell_type": "code",
      "metadata": {
        "id": "hIhZd9bvtxLh",
        "colab_type": "code",
        "colab": {}
      },
      "source": [
        "mentions_count = pd.read_csv('/content/drive/My Drive/Colab Notebooks/Mentions_count.csv')\n",
        "mentions_count.set_index('Unnamed: 0', inplace=True)\n",
        "mentions_count.head()"
      ],
      "execution_count": null,
      "outputs": []
    },
    {
      "cell_type": "code",
      "metadata": {
        "id": "JCn9QupQuEpD",
        "colab_type": "code",
        "colab": {}
      },
      "source": [
        "def funct(string):\n",
        "  if string == 0:\n",
        "    return 0\n",
        "  final = 0\n",
        "  for i in string.split():\n",
        "    final += mentions_count.loc[i].values[0]\n",
        "  #print(string.split(), final)\n",
        "  return final"
      ],
      "execution_count": 69,
      "outputs": []
    },
    {
      "cell_type": "code",
      "metadata": {
        "id": "a1P3Jv3LuLcN",
        "colab_type": "code",
        "colab": {}
      },
      "source": [
        "from tqdm._tqdm_notebook import tqdm_notebook\n",
        "tqdm_notebook().pandas(desc=\"Example Desc\")\n",
        "\n",
        "frame['Mentions_score'] = frame['Mentions'].progress_apply(funct)"
      ],
      "execution_count": null,
      "outputs": []
    },
    {
      "cell_type": "code",
      "metadata": {
        "id": "oBW-Q8OLuiGV",
        "colab_type": "code",
        "colab": {
          "base_uri": "https://localhost:8080/",
          "height": 232
        },
        "outputId": "f1e35cba-bd2d-4dbf-cb9c-e33ae820752c"
      },
      "source": [
        "frame.head()"
      ],
      "execution_count": 75,
      "outputs": [
        {
          "output_type": "execute_result",
          "data": {
            "text/html": [
              "<div>\n",
              "<style scoped>\n",
              "    .dataframe tbody tr th:only-of-type {\n",
              "        vertical-align: middle;\n",
              "    }\n",
              "\n",
              "    .dataframe tbody tr th {\n",
              "        vertical-align: top;\n",
              "    }\n",
              "\n",
              "    .dataframe thead th {\n",
              "        text-align: right;\n",
              "    }\n",
              "</style>\n",
              "<table border=\"1\" class=\"dataframe\">\n",
              "  <thead>\n",
              "    <tr style=\"text-align: right;\">\n",
              "      <th></th>\n",
              "      <th>Tweet Id</th>\n",
              "      <th>Followers</th>\n",
              "      <th>Friends</th>\n",
              "      <th>Retweets</th>\n",
              "      <th>Favorites</th>\n",
              "      <th>Mentions</th>\n",
              "      <th>Hashtags</th>\n",
              "      <th>Day</th>\n",
              "      <th>Month</th>\n",
              "      <th>Date</th>\n",
              "      <th>Time</th>\n",
              "      <th>Year</th>\n",
              "      <th>Pos</th>\n",
              "      <th>Neg</th>\n",
              "      <th>bin</th>\n",
              "      <th>Mentions_count</th>\n",
              "      <th>Hashtags_count</th>\n",
              "      <th>Mentions_score</th>\n",
              "    </tr>\n",
              "  </thead>\n",
              "  <tbody>\n",
              "    <tr>\n",
              "      <th>731608</th>\n",
              "      <td>1236770340686069760</td>\n",
              "      <td>8676</td>\n",
              "      <td>1672</td>\n",
              "      <td>16</td>\n",
              "      <td>39</td>\n",
              "      <td>0</td>\n",
              "      <td>0</td>\n",
              "      <td>7</td>\n",
              "      <td>3</td>\n",
              "      <td>8</td>\n",
              "      <td>21</td>\n",
              "      <td>2020</td>\n",
              "      <td>3</td>\n",
              "      <td>-1</td>\n",
              "      <td>0</td>\n",
              "      <td>0</td>\n",
              "      <td>0</td>\n",
              "      <td>0</td>\n",
              "    </tr>\n",
              "    <tr>\n",
              "      <th>1355468</th>\n",
              "      <td>1251049144749154304</td>\n",
              "      <td>134387</td>\n",
              "      <td>147</td>\n",
              "      <td>18</td>\n",
              "      <td>168</td>\n",
              "      <td>0</td>\n",
              "      <td>0</td>\n",
              "      <td>5</td>\n",
              "      <td>4</td>\n",
              "      <td>17</td>\n",
              "      <td>7</td>\n",
              "      <td>2020</td>\n",
              "      <td>2</td>\n",
              "      <td>-1</td>\n",
              "      <td>0</td>\n",
              "      <td>0</td>\n",
              "      <td>0</td>\n",
              "      <td>0</td>\n",
              "    </tr>\n",
              "    <tr>\n",
              "      <th>547741</th>\n",
              "      <td>1226623357916995584</td>\n",
              "      <td>217727</td>\n",
              "      <td>230594</td>\n",
              "      <td>22</td>\n",
              "      <td>65</td>\n",
              "      <td>0</td>\n",
              "      <td>0</td>\n",
              "      <td>7</td>\n",
              "      <td>2</td>\n",
              "      <td>9</td>\n",
              "      <td>21</td>\n",
              "      <td>2020</td>\n",
              "      <td>1</td>\n",
              "      <td>-1</td>\n",
              "      <td>0</td>\n",
              "      <td>0</td>\n",
              "      <td>0</td>\n",
              "      <td>0</td>\n",
              "    </tr>\n",
              "    <tr>\n",
              "      <th>1707419</th>\n",
              "      <td>1248823243261136897</td>\n",
              "      <td>12024</td>\n",
              "      <td>175</td>\n",
              "      <td>17</td>\n",
              "      <td>53</td>\n",
              "      <td>IPRD_Bihar</td>\n",
              "      <td>BiharFightsCorona BiharCares</td>\n",
              "      <td>6</td>\n",
              "      <td>4</td>\n",
              "      <td>11</td>\n",
              "      <td>4</td>\n",
              "      <td>2020</td>\n",
              "      <td>2</td>\n",
              "      <td>-1</td>\n",
              "      <td>0</td>\n",
              "      <td>1</td>\n",
              "      <td>2</td>\n",
              "      <td>65</td>\n",
              "    </tr>\n",
              "    <tr>\n",
              "      <th>1063240</th>\n",
              "      <td>1239471429764231168</td>\n",
              "      <td>79264</td>\n",
              "      <td>76936</td>\n",
              "      <td>29</td>\n",
              "      <td>73</td>\n",
              "      <td>0</td>\n",
              "      <td>0</td>\n",
              "      <td>1</td>\n",
              "      <td>3</td>\n",
              "      <td>16</td>\n",
              "      <td>8</td>\n",
              "      <td>2020</td>\n",
              "      <td>1</td>\n",
              "      <td>-3</td>\n",
              "      <td>0</td>\n",
              "      <td>0</td>\n",
              "      <td>0</td>\n",
              "      <td>0</td>\n",
              "    </tr>\n",
              "  </tbody>\n",
              "</table>\n",
              "</div>"
            ],
            "text/plain": [
              "                    Tweet Id  Followers  ...  Hashtags_count  Mentions_score\n",
              "731608   1236770340686069760       8676  ...               0               0\n",
              "1355468  1251049144749154304     134387  ...               0               0\n",
              "547741   1226623357916995584     217727  ...               0               0\n",
              "1707419  1248823243261136897      12024  ...               2              65\n",
              "1063240  1239471429764231168      79264  ...               0               0\n",
              "\n",
              "[5 rows x 18 columns]"
            ]
          },
          "metadata": {
            "tags": []
          },
          "execution_count": 75
        }
      ]
    },
    {
      "cell_type": "code",
      "metadata": {
        "id": "didROtVGwK65",
        "colab_type": "code",
        "colab": {}
      },
      "source": [
        ""
      ],
      "execution_count": null,
      "outputs": []
    },
    {
      "cell_type": "markdown",
      "metadata": {
        "id": "LFGS1Ncyxgo8",
        "colab_type": "text"
      },
      "source": [
        "**Finding score of each row basing on hashtag popularity**"
      ]
    },
    {
      "cell_type": "code",
      "metadata": {
        "id": "aQKJZ1oqxnSP",
        "colab_type": "code",
        "colab": {
          "base_uri": "https://localhost:8080/",
          "height": 225
        },
        "outputId": "b956198d-1a61-4245-b40a-36fb260530fb"
      },
      "source": [
        "Hashtags_count = pd.read_csv('/content/drive/My Drive/Colab Notebooks/Hashtags_count.csv')\n",
        "Hashtags_count.set_index('Unnamed: 0', inplace=True)\n",
        "Hashtags_count.head()"
      ],
      "execution_count": 77,
      "outputs": [
        {
          "output_type": "execute_result",
          "data": {
            "text/html": [
              "<div>\n",
              "<style scoped>\n",
              "    .dataframe tbody tr th:only-of-type {\n",
              "        vertical-align: middle;\n",
              "    }\n",
              "\n",
              "    .dataframe tbody tr th {\n",
              "        vertical-align: top;\n",
              "    }\n",
              "\n",
              "    .dataframe thead th {\n",
              "        text-align: right;\n",
              "    }\n",
              "</style>\n",
              "<table border=\"1\" class=\"dataframe\">\n",
              "  <thead>\n",
              "    <tr style=\"text-align: right;\">\n",
              "      <th></th>\n",
              "      <th>0</th>\n",
              "    </tr>\n",
              "    <tr>\n",
              "      <th>Unnamed: 0</th>\n",
              "      <th></th>\n",
              "    </tr>\n",
              "  </thead>\n",
              "  <tbody>\n",
              "    <tr>\n",
              "      <th>COVID19</th>\n",
              "      <td>258958</td>\n",
              "    </tr>\n",
              "    <tr>\n",
              "      <th>coronavirus</th>\n",
              "      <td>205754</td>\n",
              "    </tr>\n",
              "    <tr>\n",
              "      <th>null;</th>\n",
              "      <td>99939</td>\n",
              "    </tr>\n",
              "    <tr>\n",
              "      <th>Coronavirus</th>\n",
              "      <td>52933</td>\n",
              "    </tr>\n",
              "    <tr>\n",
              "      <th>0</th>\n",
              "      <td>46187</td>\n",
              "    </tr>\n",
              "  </tbody>\n",
              "</table>\n",
              "</div>"
            ],
            "text/plain": [
              "                  0\n",
              "Unnamed: 0         \n",
              "COVID19      258958\n",
              "coronavirus  205754\n",
              "null;         99939\n",
              "Coronavirus   52933\n",
              "0             46187"
            ]
          },
          "metadata": {
            "tags": []
          },
          "execution_count": 77
        }
      ]
    },
    {
      "cell_type": "code",
      "metadata": {
        "id": "klEr6u8qx0IE",
        "colab_type": "code",
        "colab": {}
      },
      "source": [
        "def funct(string):\n",
        "  if string == 0:\n",
        "    return 0\n",
        "  final = 0\n",
        "  for i in string.split():\n",
        "    final += Hashtags_count.loc[i].values[0]\n",
        "  #print(string.split(), final)\n",
        "  return final"
      ],
      "execution_count": 78,
      "outputs": []
    },
    {
      "cell_type": "code",
      "metadata": {
        "id": "9V7KPhrhyUIS",
        "colab_type": "code",
        "colab": {
          "base_uri": "https://localhost:8080/",
          "height": 66,
          "referenced_widgets": [
            "6f1856d3b01447ee95deb8750868c862",
            "f4c8e67d17834e1780dc6a428b90f0b1",
            "3686b6f8a91e41cb9b4065171cef68bf",
            "f191f40cba6644b8a9e0cf90ded30f74",
            "fb8deed7bbe34b1987c210803e382ff7",
            "8de883fd85b540529b6563e749470fa6",
            "dc0849f4d25144d1bddcd91c0a75f59b",
            "42ebad4168524170b7f8e34450f48b7a"
          ]
        },
        "outputId": "f30f7214-e67f-4f4a-b26a-e7f01775f3bb"
      },
      "source": [
        "frame['Hashtags_score'] = frame['Hashtags'].progress_apply(funct)"
      ],
      "execution_count": 79,
      "outputs": [
        {
          "output_type": "display_data",
          "data": {
            "application/vnd.jupyter.widget-view+json": {
              "model_id": "6f1856d3b01447ee95deb8750868c862",
              "version_minor": 0,
              "version_major": 2
            },
            "text/plain": [
              "HBox(children=(FloatProgress(value=0.0, description='Example Desc', max=11735.0, style=ProgressStyle(descripti…"
            ]
          },
          "metadata": {
            "tags": []
          }
        },
        {
          "output_type": "stream",
          "text": [
            "\n"
          ],
          "name": "stdout"
        }
      ]
    },
    {
      "cell_type": "code",
      "metadata": {
        "id": "JhK7cHeYydx8",
        "colab_type": "code",
        "colab": {
          "base_uri": "https://localhost:8080/",
          "height": 232
        },
        "outputId": "a67bba80-82e5-42b4-dab5-4ab9683ec01b"
      },
      "source": [
        "frame.head()"
      ],
      "execution_count": 87,
      "outputs": [
        {
          "output_type": "execute_result",
          "data": {
            "text/html": [
              "<div>\n",
              "<style scoped>\n",
              "    .dataframe tbody tr th:only-of-type {\n",
              "        vertical-align: middle;\n",
              "    }\n",
              "\n",
              "    .dataframe tbody tr th {\n",
              "        vertical-align: top;\n",
              "    }\n",
              "\n",
              "    .dataframe thead th {\n",
              "        text-align: right;\n",
              "    }\n",
              "</style>\n",
              "<table border=\"1\" class=\"dataframe\">\n",
              "  <thead>\n",
              "    <tr style=\"text-align: right;\">\n",
              "      <th></th>\n",
              "      <th>Tweet Id</th>\n",
              "      <th>Followers</th>\n",
              "      <th>Friends</th>\n",
              "      <th>Retweets</th>\n",
              "      <th>Favorites</th>\n",
              "      <th>Mentions</th>\n",
              "      <th>Hashtags</th>\n",
              "      <th>Day</th>\n",
              "      <th>Month</th>\n",
              "      <th>Date</th>\n",
              "      <th>Time</th>\n",
              "      <th>Year</th>\n",
              "      <th>Pos</th>\n",
              "      <th>Neg</th>\n",
              "      <th>bin</th>\n",
              "      <th>Mentions_count</th>\n",
              "      <th>Hashtags_count</th>\n",
              "      <th>Mentions_score</th>\n",
              "      <th>Hashtags_score</th>\n",
              "      <th>Mentions_score_avg</th>\n",
              "      <th>Hashtags_score_avg</th>\n",
              "    </tr>\n",
              "  </thead>\n",
              "  <tbody>\n",
              "    <tr>\n",
              "      <th>731608</th>\n",
              "      <td>1236770340686069760</td>\n",
              "      <td>8676</td>\n",
              "      <td>1672</td>\n",
              "      <td>16</td>\n",
              "      <td>39</td>\n",
              "      <td>0</td>\n",
              "      <td>0</td>\n",
              "      <td>7</td>\n",
              "      <td>3</td>\n",
              "      <td>8</td>\n",
              "      <td>21</td>\n",
              "      <td>2020</td>\n",
              "      <td>3</td>\n",
              "      <td>-1</td>\n",
              "      <td>0</td>\n",
              "      <td>0</td>\n",
              "      <td>0</td>\n",
              "      <td>0</td>\n",
              "      <td>0</td>\n",
              "      <td>0.0</td>\n",
              "      <td>0.0</td>\n",
              "    </tr>\n",
              "    <tr>\n",
              "      <th>1355468</th>\n",
              "      <td>1251049144749154304</td>\n",
              "      <td>134387</td>\n",
              "      <td>147</td>\n",
              "      <td>18</td>\n",
              "      <td>168</td>\n",
              "      <td>0</td>\n",
              "      <td>0</td>\n",
              "      <td>5</td>\n",
              "      <td>4</td>\n",
              "      <td>17</td>\n",
              "      <td>7</td>\n",
              "      <td>2020</td>\n",
              "      <td>2</td>\n",
              "      <td>-1</td>\n",
              "      <td>0</td>\n",
              "      <td>0</td>\n",
              "      <td>0</td>\n",
              "      <td>0</td>\n",
              "      <td>0</td>\n",
              "      <td>0.0</td>\n",
              "      <td>0.0</td>\n",
              "    </tr>\n",
              "    <tr>\n",
              "      <th>547741</th>\n",
              "      <td>1226623357916995584</td>\n",
              "      <td>217727</td>\n",
              "      <td>230594</td>\n",
              "      <td>22</td>\n",
              "      <td>65</td>\n",
              "      <td>0</td>\n",
              "      <td>0</td>\n",
              "      <td>7</td>\n",
              "      <td>2</td>\n",
              "      <td>9</td>\n",
              "      <td>21</td>\n",
              "      <td>2020</td>\n",
              "      <td>1</td>\n",
              "      <td>-1</td>\n",
              "      <td>0</td>\n",
              "      <td>0</td>\n",
              "      <td>0</td>\n",
              "      <td>0</td>\n",
              "      <td>0</td>\n",
              "      <td>0.0</td>\n",
              "      <td>0.0</td>\n",
              "    </tr>\n",
              "    <tr>\n",
              "      <th>1707419</th>\n",
              "      <td>1248823243261136897</td>\n",
              "      <td>12024</td>\n",
              "      <td>175</td>\n",
              "      <td>17</td>\n",
              "      <td>53</td>\n",
              "      <td>IPRD_Bihar</td>\n",
              "      <td>BiharFightsCorona BiharCares</td>\n",
              "      <td>6</td>\n",
              "      <td>4</td>\n",
              "      <td>11</td>\n",
              "      <td>4</td>\n",
              "      <td>2020</td>\n",
              "      <td>2</td>\n",
              "      <td>-1</td>\n",
              "      <td>0</td>\n",
              "      <td>1</td>\n",
              "      <td>2</td>\n",
              "      <td>65</td>\n",
              "      <td>167</td>\n",
              "      <td>65.0</td>\n",
              "      <td>83.5</td>\n",
              "    </tr>\n",
              "    <tr>\n",
              "      <th>1063240</th>\n",
              "      <td>1239471429764231168</td>\n",
              "      <td>79264</td>\n",
              "      <td>76936</td>\n",
              "      <td>29</td>\n",
              "      <td>73</td>\n",
              "      <td>0</td>\n",
              "      <td>0</td>\n",
              "      <td>1</td>\n",
              "      <td>3</td>\n",
              "      <td>16</td>\n",
              "      <td>8</td>\n",
              "      <td>2020</td>\n",
              "      <td>1</td>\n",
              "      <td>-3</td>\n",
              "      <td>0</td>\n",
              "      <td>0</td>\n",
              "      <td>0</td>\n",
              "      <td>0</td>\n",
              "      <td>0</td>\n",
              "      <td>0.0</td>\n",
              "      <td>0.0</td>\n",
              "    </tr>\n",
              "  </tbody>\n",
              "</table>\n",
              "</div>"
            ],
            "text/plain": [
              "                    Tweet Id  Followers  ...  Mentions_score_avg  Hashtags_score_avg\n",
              "731608   1236770340686069760       8676  ...                 0.0                 0.0\n",
              "1355468  1251049144749154304     134387  ...                 0.0                 0.0\n",
              "547741   1226623357916995584     217727  ...                 0.0                 0.0\n",
              "1707419  1248823243261136897      12024  ...                65.0                83.5\n",
              "1063240  1239471429764231168      79264  ...                 0.0                 0.0\n",
              "\n",
              "[5 rows x 21 columns]"
            ]
          },
          "metadata": {
            "tags": []
          },
          "execution_count": 87
        }
      ]
    },
    {
      "cell_type": "code",
      "metadata": {
        "id": "IrNIuWplzZFr",
        "colab_type": "code",
        "colab": {}
      },
      "source": [
        "frame['Mentions_score_avg'] = frame['Mentions_score']/frame['Mentions_count']\n",
        "frame.Mentions_score_avg.replace(np.NaN,0,inplace=True)"
      ],
      "execution_count": 84,
      "outputs": []
    },
    {
      "cell_type": "code",
      "metadata": {
        "id": "JgOiDomd0icl",
        "colab_type": "code",
        "colab": {}
      },
      "source": [
        "frame['Hashtags_score_avg'] = frame['Hashtags_score']/frame['Hashtags_count']\n",
        "frame.Hashtags_score_avg.replace(np.NaN,0,inplace=True)"
      ],
      "execution_count": 86,
      "outputs": []
    },
    {
      "cell_type": "code",
      "metadata": {
        "id": "qfQrUXbQ1Fly",
        "colab_type": "code",
        "colab": {}
      },
      "source": [
        "frame.to_csv('Balanced.csv')\n",
        "!cp Balanced.csv \"drive/My Drive/Colab Notebooks/\""
      ],
      "execution_count": 88,
      "outputs": []
    },
    {
      "cell_type": "code",
      "metadata": {
        "id": "KZBakUev1QvM",
        "colab_type": "code",
        "colab": {}
      },
      "source": [
        ""
      ],
      "execution_count": null,
      "outputs": []
    }
  ]
}