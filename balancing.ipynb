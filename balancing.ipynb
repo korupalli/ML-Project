{
  "nbformat": 4,
  "nbformat_minor": 0,
  "metadata": {
    "colab": {
      "name": "Untitled1.ipynb",
      "provenance": [],
      "mount_file_id": "1_IGjfzhlDflQOEINnpikLyrbSrATG3hb",
      "authorship_tag": "ABX9TyNP9uCUklzzRauoQ+UnrgpD",
      "include_colab_link": true
    },
    "kernelspec": {
      "name": "python3",
      "display_name": "Python 3"
    }
  },
  "cells": [
    {
      "cell_type": "markdown",
      "metadata": {
        "id": "view-in-github",
        "colab_type": "text"
      },
      "source": [
        "<a href=\"https://colab.research.google.com/github/korupalli/ML-Project/blob/master/balancing.ipynb\" target=\"_parent\"><img src=\"https://colab.research.google.com/assets/colab-badge.svg\" alt=\"Open In Colab\"/></a>"
      ]
    },
    {
      "cell_type": "code",
      "metadata": {
        "id": "FtYUGIt4d54F",
        "colab_type": "code",
        "colab": {}
      },
      "source": [
        "import pandas as pd\n",
        "import numpy as np\n",
        "from sklearn import preprocessing"
      ],
      "execution_count": 42,
      "outputs": []
    },
    {
      "cell_type": "code",
      "metadata": {
        "id": "UaEv-bsud-2k",
        "colab_type": "code",
        "colab": {}
      },
      "source": [
        "frame = pd.read_csv('/content/drive/My Drive/Colab Notebooks/data.csv')\n",
        "frame.Mentions.replace(np.NaN,0,inplace=True)"
      ],
      "execution_count": 3,
      "outputs": []
    },
    {
      "cell_type": "code",
      "metadata": {
        "id": "L4dgohb_e8wc",
        "colab_type": "code",
        "colab": {
          "base_uri": "https://localhost:8080/",
          "height": 195
        },
        "outputId": "c0eb7ca2-c6cd-4c02-82d8-f4b7a7cf9811"
      },
      "source": [
        "frame.head()"
      ],
      "execution_count": 11,
      "outputs": [
        {
          "output_type": "execute_result",
          "data": {
            "text/html": [
              "<div>\n",
              "<style scoped>\n",
              "    .dataframe tbody tr th:only-of-type {\n",
              "        vertical-align: middle;\n",
              "    }\n",
              "\n",
              "    .dataframe tbody tr th {\n",
              "        vertical-align: top;\n",
              "    }\n",
              "\n",
              "    .dataframe thead th {\n",
              "        text-align: right;\n",
              "    }\n",
              "</style>\n",
              "<table border=\"1\" class=\"dataframe\">\n",
              "  <thead>\n",
              "    <tr style=\"text-align: right;\">\n",
              "      <th></th>\n",
              "      <th>Tweet Id</th>\n",
              "      <th>Followers</th>\n",
              "      <th>Friends</th>\n",
              "      <th>Retweets</th>\n",
              "      <th>Favorites</th>\n",
              "      <th>Mentions</th>\n",
              "      <th>Hashtags</th>\n",
              "      <th>Day</th>\n",
              "      <th>Month</th>\n",
              "      <th>Date</th>\n",
              "      <th>Time</th>\n",
              "      <th>Year</th>\n",
              "      <th>Pos</th>\n",
              "      <th>Neg</th>\n",
              "    </tr>\n",
              "  </thead>\n",
              "  <tbody>\n",
              "    <tr>\n",
              "      <th>0</th>\n",
              "      <td>1178791985106153472</td>\n",
              "      <td>36365</td>\n",
              "      <td>19344</td>\n",
              "      <td>13</td>\n",
              "      <td>17</td>\n",
              "      <td>0</td>\n",
              "      <td>NaN</td>\n",
              "      <td>Mon</td>\n",
              "      <td>Sep</td>\n",
              "      <td>30</td>\n",
              "      <td>22</td>\n",
              "      <td>2019</td>\n",
              "      <td>1</td>\n",
              "      <td>-4</td>\n",
              "    </tr>\n",
              "    <tr>\n",
              "      <th>1</th>\n",
              "      <td>1178798309491822592</td>\n",
              "      <td>9009</td>\n",
              "      <td>4943</td>\n",
              "      <td>26</td>\n",
              "      <td>89</td>\n",
              "      <td>0</td>\n",
              "      <td>VFS</td>\n",
              "      <td>Mon</td>\n",
              "      <td>Sep</td>\n",
              "      <td>30</td>\n",
              "      <td>22</td>\n",
              "      <td>2019</td>\n",
              "      <td>2</td>\n",
              "      <td>-1</td>\n",
              "    </tr>\n",
              "    <tr>\n",
              "      <th>2</th>\n",
              "      <td>1178803487037108225</td>\n",
              "      <td>156538</td>\n",
              "      <td>3858</td>\n",
              "      <td>56</td>\n",
              "      <td>131</td>\n",
              "      <td>0</td>\n",
              "      <td>Raiders</td>\n",
              "      <td>Mon</td>\n",
              "      <td>Sep</td>\n",
              "      <td>30</td>\n",
              "      <td>22</td>\n",
              "      <td>2019</td>\n",
              "      <td>1</td>\n",
              "      <td>-1</td>\n",
              "    </tr>\n",
              "    <tr>\n",
              "      <th>3</th>\n",
              "      <td>1178803977376415749</td>\n",
              "      <td>27014</td>\n",
              "      <td>24488</td>\n",
              "      <td>39</td>\n",
              "      <td>37</td>\n",
              "      <td>AOC</td>\n",
              "      <td>NaN</td>\n",
              "      <td>Mon</td>\n",
              "      <td>Sep</td>\n",
              "      <td>30</td>\n",
              "      <td>22</td>\n",
              "      <td>2019</td>\n",
              "      <td>2</td>\n",
              "      <td>-1</td>\n",
              "    </tr>\n",
              "    <tr>\n",
              "      <th>4</th>\n",
              "      <td>1178813521884172288</td>\n",
              "      <td>39568</td>\n",
              "      <td>37514</td>\n",
              "      <td>136</td>\n",
              "      <td>140</td>\n",
              "      <td>0</td>\n",
              "      <td>NaN</td>\n",
              "      <td>Mon</td>\n",
              "      <td>Sep</td>\n",
              "      <td>30</td>\n",
              "      <td>23</td>\n",
              "      <td>2019</td>\n",
              "      <td>2</td>\n",
              "      <td>-1</td>\n",
              "    </tr>\n",
              "  </tbody>\n",
              "</table>\n",
              "</div>"
            ],
            "text/plain": [
              "              Tweet Id  Followers  Friends  Retweets  ...  Time  Year Pos Neg\n",
              "0  1178791985106153472      36365    19344        13  ...    22  2019   1  -4\n",
              "1  1178798309491822592       9009     4943        26  ...    22  2019   2  -1\n",
              "2  1178803487037108225     156538     3858        56  ...    22  2019   1  -1\n",
              "3  1178803977376415749      27014    24488        39  ...    22  2019   2  -1\n",
              "4  1178813521884172288      39568    37514       136  ...    23  2019   2  -1\n",
              "\n",
              "[5 rows x 14 columns]"
            ]
          },
          "metadata": {
            "tags": []
          },
          "execution_count": 11
        }
      ]
    },
    {
      "cell_type": "code",
      "metadata": {
        "id": "JgRSnOlCe-TO",
        "colab_type": "code",
        "colab": {}
      },
      "source": [
        "frame.drop(frame.index[frame[frame['Retweets'] <= 10].index.values], inplace=True)\n",
        "frame.reset_index(inplace=True)"
      ],
      "execution_count": 6,
      "outputs": []
    },
    {
      "cell_type": "code",
      "metadata": {
        "id": "-hXS3dzkfLQ6",
        "colab_type": "code",
        "colab": {}
      },
      "source": [
        "#Dropping duplicated index columns\n",
        "frame.drop(frame.columns[[0, 1]], axis = 1, inplace = True) "
      ],
      "execution_count": 10,
      "outputs": []
    },
    {
      "cell_type": "code",
      "metadata": {
        "id": "0CPHTyouf-y8",
        "colab_type": "code",
        "colab": {}
      },
      "source": [
        "frame['bin'] = pd.cut(frame['Retweets'], [10, 50, 100, 1000, 10000, 275530])"
      ],
      "execution_count": 39,
      "outputs": []
    },
    {
      "cell_type": "code",
      "metadata": {
        "id": "IjwRz8-Pk2QJ",
        "colab_type": "code",
        "colab": {}
      },
      "source": [
        "frame['bin'] = frame.bin.apply(preprocessing.LabelEncoder().fit_transform)"
      ],
      "execution_count": 46,
      "outputs": []
    },
    {
      "cell_type": "code",
      "metadata": {
        "id": "O8HCLc6Cpgv3",
        "colab_type": "code",
        "colab": {
          "base_uri": "https://localhost:8080/",
          "height": 118
        },
        "outputId": "5b17a971-0567-442d-c064-2b5d6ce31138"
      },
      "source": [
        "frame.bin.value_counts()"
      ],
      "execution_count": 50,
      "outputs": [
        {
          "output_type": "execute_result",
          "data": {
            "text/plain": [
              "0    1051868\n",
              "2     471878\n",
              "1     358895\n",
              "3      40149\n",
              "4       2347\n",
              "Name: bin, dtype: int64"
            ]
          },
          "metadata": {
            "tags": []
          },
          "execution_count": 50
        }
      ]
    },
    {
      "cell_type": "code",
      "metadata": {
        "id": "_SFgfjAUp6qk",
        "colab_type": "code",
        "colab": {}
      },
      "source": [
        "df_class_0 = frame[frame['bin'] == 0]\n",
        "df_class_1 = frame[frame['bin'] == 1]\n",
        "df_class_2 = frame[frame['bin'] == 2]\n",
        "df_class_3 = frame[frame['bin'] == 3]\n",
        "df_class_4 = frame[frame['bin'] == 4]"
      ],
      "execution_count": 51,
      "outputs": []
    },
    {
      "cell_type": "code",
      "metadata": {
        "id": "AfbGw4ExqNHI",
        "colab_type": "code",
        "colab": {}
      },
      "source": [
        "df_class_0_under = df_class_0.sample(2347)\n",
        "df_class_1_under = df_class_1.sample(2347)\n",
        "df_class_2_under = df_class_2.sample(2347)\n",
        "df_class_3_under = df_class_3.sample(2347)"
      ],
      "execution_count": 55,
      "outputs": []
    },
    {
      "cell_type": "code",
      "metadata": {
        "id": "MAQPu4sQqW8F",
        "colab_type": "code",
        "colab": {}
      },
      "source": [
        "df = pd.concat([df_class_0_under, df_class_1_under,df_class_2_under,df_class_3_under, df_class_4], axis=0)"
      ],
      "execution_count": 56,
      "outputs": []
    },
    {
      "cell_type": "code",
      "metadata": {
        "id": "g-hdIT0qqry5",
        "colab_type": "code",
        "colab": {}
      },
      "source": [
        ""
      ],
      "execution_count": null,
      "outputs": []
    }
  ]
}