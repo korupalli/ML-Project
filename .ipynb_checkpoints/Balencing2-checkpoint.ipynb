{
 "cells": [
  {
   "cell_type": "markdown",
   "metadata": {
    "colab_type": "text",
    "id": "view-in-github"
   },
   "source": [
    "<a href=\"https://colab.research.google.com/github/korupalli/ML-Project/blob/master/Balencing2.ipynb\" target=\"_parent\"><img src=\"https://colab.research.google.com/assets/colab-badge.svg\" alt=\"Open In Colab\"/></a>"
   ]
  },
  {
   "cell_type": "code",
   "execution_count": 52,
   "metadata": {
    "colab": {},
    "colab_type": "code",
    "id": "m_hbULcACSgI"
   },
   "outputs": [],
   "source": [
    "import pandas as pd\n",
    "import numpy as np\n",
    "from sklearn import preprocessing\n",
    "from tqdm import tqdm\n",
    "from sklearn.model_selection import train_test_split\n",
    "from sklearn.metrics import accuracy_score, f1_score, confusion_matrix, recall_score\n",
    "import matplotlib.pyplot as plt\n",
    "import seaborn as sns\n",
    "from sklearn.linear_model import LogisticRegression\n",
    "from sklearn.dummy import DummyClassifier\n",
    "from sklearn.ensemble import RandomForestClassifier"
   ]
  },
  {
   "cell_type": "code",
   "execution_count": 6,
   "metadata": {
    "colab": {},
    "colab_type": "code",
    "id": "ulGnKDkxDGGD"
   },
   "outputs": [],
   "source": [
    "# setting up default plotting parameters\n",
    "%matplotlib inline\n",
    "\n",
    "plt.rcParams['figure.figsize'] = [20.0, 7.0]\n",
    "plt.rcParams.update({'font.size': 22,})\n",
    "\n",
    "sns.set_palette('viridis')\n",
    "sns.set_style('white')\n",
    "sns.set_context('talk', font_scale=0.8)"
   ]
  },
  {
   "cell_type": "code",
   "execution_count": 7,
   "metadata": {
    "colab": {},
    "colab_type": "code",
    "id": "ORzvELy4ChGT"
   },
   "outputs": [],
   "source": [
    "frame = pd.read_csv('/content/drive/My Drive/Colab Notebooks/data.csv')\n",
    "frame.Mentions.replace(np.NaN,0,inplace=True)"
   ]
  },
  {
   "cell_type": "code",
   "execution_count": 8,
   "metadata": {
    "colab": {},
    "colab_type": "code",
    "id": "jhg0Qwp9Ci_f"
   },
   "outputs": [],
   "source": [
    "frame.drop(frame.index[frame[frame['Retweets'] <= 10].index.values], inplace=True)\n",
    "frame.reset_index(inplace=True)\n",
    "\n",
    "#Dropping duplicated index columns\n",
    "frame.drop(frame.columns[[0, 1]], axis = 1, inplace = True) \n",
    "\n",
    "frame['bin'] = pd.cut(frame['Retweets'], [10, 50, 100, 1000, 10000, 275530])\n",
    "\n",
    "frame['bin'] = frame.bin.apply(preprocessing.LabelEncoder().fit_transform)"
   ]
  },
  {
   "cell_type": "code",
   "execution_count": 36,
   "metadata": {
    "colab": {},
    "colab_type": "code",
    "id": "VDjmmt3vDaLk"
   },
   "outputs": [],
   "source": [
    "month_map={'Jan':1, 'Feb':2, 'Mar':3, 'Apr':4, 'May':5, 'Jun':6, 'Jul':7, 'Aug':8, 'Sep':9, 'Oct':10, 'Nov':11 , 'Dec':12}\n",
    "frame.Month = frame.Month.map(month_map)\n",
    "\n",
    "day_map={'Mon':1, 'Tue':2, 'Wed':3, 'Thu':4, 'Fri':5, 'Sat':6, 'Sun':7}\n",
    "frame.Day = frame.Day.map(day_map)\n",
    "\n",
    "frame.Month = frame.Month.astype(np.object)\n",
    "frame.Day = frame.Day.astype(np.object)\n",
    "frame.Date = frame.Date.astype(np.object)\n",
    "frame.Time = frame.Time.astype(np.object)\n",
    "frame.Year = frame.Year.astype(np.object)\n",
    "\n",
    "frame.Mentions.replace(np.NaN,0,inplace=True)\n",
    "frame['Mentions_count'] = frame.Mentions.apply(lambda x:0 if x==0 else len(x.split()))\n",
    "\n",
    "frame.Hashtags.replace(np.NaN,0,inplace=True)\n",
    "frame['Hashtags_count'] = frame.Hashtags.apply(lambda x:0 if x==0 else len(x.split()))"
   ]
  },
  {
   "cell_type": "code",
   "execution_count": 37,
   "metadata": {
    "colab": {
     "base_uri": "https://localhost:8080/",
     "height": 195
    },
    "colab_type": "code",
    "id": "qdZC-xhaHxSf",
    "outputId": "fe3d0c73-e915-411f-ec4b-d2a3d62fe8ec"
   },
   "outputs": [
    {
     "data": {
      "text/html": [
       "<div>\n",
       "<style scoped>\n",
       "    .dataframe tbody tr th:only-of-type {\n",
       "        vertical-align: middle;\n",
       "    }\n",
       "\n",
       "    .dataframe tbody tr th {\n",
       "        vertical-align: top;\n",
       "    }\n",
       "\n",
       "    .dataframe thead th {\n",
       "        text-align: right;\n",
       "    }\n",
       "</style>\n",
       "<table border=\"1\" class=\"dataframe\">\n",
       "  <thead>\n",
       "    <tr style=\"text-align: right;\">\n",
       "      <th></th>\n",
       "      <th>Tweet Id</th>\n",
       "      <th>Followers</th>\n",
       "      <th>Friends</th>\n",
       "      <th>Retweets</th>\n",
       "      <th>Favorites</th>\n",
       "      <th>Mentions</th>\n",
       "      <th>Hashtags</th>\n",
       "      <th>Day</th>\n",
       "      <th>Month</th>\n",
       "      <th>Date</th>\n",
       "      <th>Time</th>\n",
       "      <th>Year</th>\n",
       "      <th>Pos</th>\n",
       "      <th>Neg</th>\n",
       "      <th>bin</th>\n",
       "      <th>Mentions_count</th>\n",
       "      <th>Hashtags_count</th>\n",
       "    </tr>\n",
       "  </thead>\n",
       "  <tbody>\n",
       "    <tr>\n",
       "      <th>0</th>\n",
       "      <td>1178791985106153472</td>\n",
       "      <td>36365</td>\n",
       "      <td>19344</td>\n",
       "      <td>13</td>\n",
       "      <td>17</td>\n",
       "      <td>0</td>\n",
       "      <td>0</td>\n",
       "      <td>1</td>\n",
       "      <td>9</td>\n",
       "      <td>30</td>\n",
       "      <td>22</td>\n",
       "      <td>2019</td>\n",
       "      <td>1</td>\n",
       "      <td>-4</td>\n",
       "      <td>0</td>\n",
       "      <td>0</td>\n",
       "      <td>0</td>\n",
       "    </tr>\n",
       "    <tr>\n",
       "      <th>1</th>\n",
       "      <td>1178798309491822592</td>\n",
       "      <td>9009</td>\n",
       "      <td>4943</td>\n",
       "      <td>26</td>\n",
       "      <td>89</td>\n",
       "      <td>0</td>\n",
       "      <td>VFS</td>\n",
       "      <td>1</td>\n",
       "      <td>9</td>\n",
       "      <td>30</td>\n",
       "      <td>22</td>\n",
       "      <td>2019</td>\n",
       "      <td>2</td>\n",
       "      <td>-1</td>\n",
       "      <td>0</td>\n",
       "      <td>0</td>\n",
       "      <td>1</td>\n",
       "    </tr>\n",
       "    <tr>\n",
       "      <th>2</th>\n",
       "      <td>1178803487037108225</td>\n",
       "      <td>156538</td>\n",
       "      <td>3858</td>\n",
       "      <td>56</td>\n",
       "      <td>131</td>\n",
       "      <td>0</td>\n",
       "      <td>Raiders</td>\n",
       "      <td>1</td>\n",
       "      <td>9</td>\n",
       "      <td>30</td>\n",
       "      <td>22</td>\n",
       "      <td>2019</td>\n",
       "      <td>1</td>\n",
       "      <td>-1</td>\n",
       "      <td>1</td>\n",
       "      <td>0</td>\n",
       "      <td>1</td>\n",
       "    </tr>\n",
       "    <tr>\n",
       "      <th>3</th>\n",
       "      <td>1178803977376415749</td>\n",
       "      <td>27014</td>\n",
       "      <td>24488</td>\n",
       "      <td>39</td>\n",
       "      <td>37</td>\n",
       "      <td>AOC</td>\n",
       "      <td>0</td>\n",
       "      <td>1</td>\n",
       "      <td>9</td>\n",
       "      <td>30</td>\n",
       "      <td>22</td>\n",
       "      <td>2019</td>\n",
       "      <td>2</td>\n",
       "      <td>-1</td>\n",
       "      <td>0</td>\n",
       "      <td>1</td>\n",
       "      <td>0</td>\n",
       "    </tr>\n",
       "    <tr>\n",
       "      <th>4</th>\n",
       "      <td>1178813521884172288</td>\n",
       "      <td>39568</td>\n",
       "      <td>37514</td>\n",
       "      <td>136</td>\n",
       "      <td>140</td>\n",
       "      <td>0</td>\n",
       "      <td>0</td>\n",
       "      <td>1</td>\n",
       "      <td>9</td>\n",
       "      <td>30</td>\n",
       "      <td>23</td>\n",
       "      <td>2019</td>\n",
       "      <td>2</td>\n",
       "      <td>-1</td>\n",
       "      <td>2</td>\n",
       "      <td>0</td>\n",
       "      <td>0</td>\n",
       "    </tr>\n",
       "  </tbody>\n",
       "</table>\n",
       "</div>"
      ],
      "text/plain": [
       "              Tweet Id  Followers  Friends  ...  bin  Mentions_count Hashtags_count\n",
       "0  1178791985106153472      36365    19344  ...    0               0              0\n",
       "1  1178798309491822592       9009     4943  ...    0               0              1\n",
       "2  1178803487037108225     156538     3858  ...    1               0              1\n",
       "3  1178803977376415749      27014    24488  ...    0               1              0\n",
       "4  1178813521884172288      39568    37514  ...    2               0              0\n",
       "\n",
       "[5 rows x 17 columns]"
      ]
     },
     "execution_count": 37,
     "metadata": {
      "tags": []
     },
     "output_type": "execute_result"
    }
   ],
   "source": [
    "frame.head()"
   ]
  },
  {
   "cell_type": "code",
   "execution_count": 19,
   "metadata": {
    "colab": {
     "base_uri": "https://localhost:8080/",
     "height": 486
    },
    "colab_type": "code",
    "id": "a_XgHjzEDdMp",
    "outputId": "7930d109-0ad2-4fa6-d192-0f1076afea5d"
   },
   "outputs": [
    {
     "data": {
      "image/png": "[encoded data removed]",
      "text/plain": [
       "<Figure size 1440x504 with 1 Axes>"
      ]
     },
     "metadata": {
      "tags": []
     },
     "output_type": "display_data"
    }
   ],
   "source": [
    "# using seaborns countplot to show distribution of questions in dataset\n",
    "fig, ax = plt.subplots()\n",
    "g = sns.countplot(frame.bin, palette='viridis')\n",
    "g.set_xticklabels(['10 - 50', '50 - 100', '100 - 1000', '1000 - 100000', '>10000'])\n",
    "g.set_yticklabels([])\n",
    "sns.despine(left=True, bottom=True)\n",
    "plt.title('Distribution of Bins', fontsize=30)\n",
    "plt.tick_params(axis='x', which='major', labelsize=15)\n",
    "plt.show()"
   ]
  },
  {
   "cell_type": "code",
   "execution_count": 98,
   "metadata": {
    "colab": {},
    "colab_type": "code",
    "id": "Nt6kZ-fUEMw5"
   },
   "outputs": [],
   "source": [
    "y = frame.bin\n",
    "X = frame.drop(['bin','Retweets', 'Mentions', 'Hashtags'], axis=1)\n",
    "\n",
    "# setting up testing and training sets\n",
    "X_train, X_test, y_train, y_test = train_test_split(X, y, test_size=0.01, random_state=27)"
   ]
  },
  {
   "cell_type": "code",
   "execution_count": 99,
   "metadata": {
    "colab": {
     "base_uri": "https://localhost:8080/",
     "height": 67
    },
    "colab_type": "code",
    "id": "7xFHVuAYFtTz",
    "outputId": "bf7ac437-ebaf-4bf3-f818-35b7058df123"
   },
   "outputs": [
    {
     "data": {
      "text/plain": [
       "Index(['Tweet Id', 'Followers', 'Friends', 'Favorites', 'Day', 'Month', 'Date',\n",
       "       'Time', 'Year', 'Pos', 'Neg', 'Mentions_count', 'Hashtags_count'],\n",
       "      dtype='object')"
      ]
     },
     "execution_count": 99,
     "metadata": {
      "tags": []
     },
     "output_type": "execute_result"
    }
   ],
   "source": [
    "X_test.columns"
   ]
  },
  {
   "cell_type": "code",
   "execution_count": 44,
   "metadata": {
    "colab": {
     "base_uri": "https://localhost:8080/",
     "height": 50
    },
    "colab_type": "code",
    "id": "o41AgUd0GWMK",
    "outputId": "4b2f940d-254f-4ea7-9a0d-e3ccca69b765"
   },
   "outputs": [
    {
     "name": "stdout",
     "output_type": "stream",
     "text": [
      "Unique predicted labels:  [0]\n",
      "Test score:  0.5445148555994183\n"
     ]
    }
   ],
   "source": [
    "dummy = DummyClassifier(strategy='most_frequent').fit(X_train, y_train)\n",
    "dummy_pred = dummy.predict(X_test)\n",
    "\n",
    "# checking unique labels\n",
    "print('Unique predicted labels: ', (np.unique(dummy_pred)))\n",
    "\n",
    "# checking accuracy\n",
    "print('Test score: ', accuracy_score(y_test, dummy_pred))"
   ]
  },
  {
   "cell_type": "code",
   "execution_count": 51,
   "metadata": {
    "colab": {
     "base_uri": "https://localhost:8080/",
     "height": 34
    },
    "colab_type": "code",
    "id": "Fq7AsrLOJeaf",
    "outputId": "497f1a3e-749b-4c2f-e5db-ad14ce7e228b"
   },
   "outputs": [
    {
     "name": "stdout",
     "output_type": "stream",
     "text": [
      "0.14101900117706406 0.2\n"
     ]
    }
   ],
   "source": [
    "print(f1_score(y_test, dummy_pred, average = 'macro'), recall_score(y_test, dummy_pred, average = 'macro'))"
   ]
  },
  {
   "cell_type": "code",
   "execution_count": null,
   "metadata": {
    "colab": {},
    "colab_type": "code",
    "id": "I54bCZEZG-98"
   },
   "outputs": [],
   "source": [
    "lr = LogisticRegression(solver='liblinear').fit(X_train, y_train)\n",
    " \n",
    "# Predict on training set\n",
    "lr_pred = lr.predict(X_test)\n",
    "\n",
    "accuracy_score(y_test, lr_pred)"
   ]
  },
  {
   "cell_type": "code",
   "execution_count": 53,
   "metadata": {
    "colab": {
     "base_uri": "https://localhost:8080/",
     "height": 34
    },
    "colab_type": "code",
    "id": "reWIi_TEHXmr",
    "outputId": "7ac06272-6a31-4136-bb24-6ac5c8c25e92"
   },
   "outputs": [
    {
     "name": "stdout",
     "output_type": "stream",
     "text": [
      "0.5445148555994183 0.14101900117706406 0.2\n"
     ]
    }
   ],
   "source": [
    "print(accuracy_score(y_test, lr_pred), f1_score(y_test, lr_pred, average = 'macro'), recall_score(y_test, lr_pred, average = 'macro'))"
   ]
  },
  {
   "cell_type": "markdown",
   "metadata": {
    "colab_type": "text",
    "id": "rYx-CdZGJ-Gj"
   },
   "source": [
    "Trying with random_forest"
   ]
  },
  {
   "cell_type": "code",
   "execution_count": 54,
   "metadata": {
    "colab": {
     "base_uri": "https://localhost:8080/",
     "height": 34
    },
    "colab_type": "code",
    "id": "aWz4DOwwKAWz",
    "outputId": "774cd3b0-7636-499e-8395-049ad07d12d8"
   },
   "outputs": [
    {
     "name": "stdout",
     "output_type": "stream",
     "text": [
      "0.729586536463744 0.6044533687463565 0.5647948896729502\n"
     ]
    }
   ],
   "source": [
    "rfc = RandomForestClassifier(n_estimators=10).fit(X_train, y_train)\n",
    "\n",
    "# predict on test set\n",
    "rfc_pred = rfc.predict(X_test)\n",
    "\n",
    "print(accuracy_score(y_test, rfc_pred), f1_score(y_test, rfc_pred, average = 'macro'), recall_score(y_test, rfc_pred, average = 'macro'))"
   ]
  },
  {
   "cell_type": "markdown",
   "metadata": {
    "colab_type": "text",
    "id": "Y1CI5TTxWDJu"
   },
   "source": [
    "Reducing each class to 10% by maintaing the same ratios and reducing the overall size of dataset to its 10%"
   ]
  },
  {
   "cell_type": "code",
   "execution_count": 61,
   "metadata": {
    "colab": {},
    "colab_type": "code",
    "id": "5bfEhRhfWgHb"
   },
   "outputs": [],
   "source": [
    "counts = y_train.value_counts().values"
   ]
  },
  {
   "cell_type": "code",
   "execution_count": 59,
   "metadata": {
    "colab": {},
    "colab_type": "code",
    "id": "sWQwN3GgWstS"
   },
   "outputs": [],
   "source": [
    "X = pd.concat([X_train, y_train], axis=1)"
   ]
  },
  {
   "cell_type": "code",
   "execution_count": 68,
   "metadata": {
    "colab": {},
    "colab_type": "code",
    "id": "YcfrwotJaOLw"
   },
   "outputs": [],
   "source": [
    "X_ = pd.concat([X[X['bin'] == 0].sample(int(0.1 * counts[0])), X[X['bin'] == 1].sample(int(0.1 * counts[1])), X[X['bin'] == 2].sample(int(0.1 * counts[2])), X[X['bin'] == 3].sample(int(0.1 * counts[3])), X[X['bin'] == 4].sample(int(0.1 * counts[4]))], axis=0)"
   ]
  },
  {
   "cell_type": "code",
   "execution_count": null,
   "metadata": {
    "colab": {},
    "colab_type": "code",
    "id": "-y8NjTbqbsTI"
   },
   "outputs": [],
   "source": [
    "y_train = X_.bin\n",
    "X_train = X_.drop(['bin'], axis=1)"
   ]
  },
  {
   "cell_type": "code",
   "execution_count": 76,
   "metadata": {
    "colab": {
     "base_uri": "https://localhost:8080/",
     "height": 34
    },
    "colab_type": "code",
    "id": "dLbSJ8KCcEX_",
    "outputId": "2c6d0608-426c-4010-fe8d-94edda3e70ff"
   },
   "outputs": [
    {
     "name": "stdout",
     "output_type": "stream",
     "text": [
      "0.7060045709536672 0.575330644583955 0.5350234422935805\n"
     ]
    }
   ],
   "source": [
    "rfc = RandomForestClassifier(n_estimators=10).fit(X_train, y_train)\n",
    "\n",
    "# predict on test set\n",
    "rfc_pred = rfc.predict(X_test)\n",
    "\n",
    "print(accuracy_score(y_test, rfc_pred), f1_score(y_test, rfc_pred, average = 'macro'), recall_score(y_test, rfc_pred, average = 'macro'))"
   ]
  },
  {
   "cell_type": "markdown",
   "metadata": {
    "colab_type": "text",
    "id": "6C02JgZTcczb"
   },
   "source": [
    "Reducing each class to the size of the smallest bin"
   ]
  },
  {
   "cell_type": "code",
   "execution_count": 82,
   "metadata": {
    "colab": {},
    "colab_type": "code",
    "id": "aCKelCvHc5i5"
   },
   "outputs": [],
   "source": [
    "#X = pd.concat([X_train, y_train], axis=1)"
   ]
  },
  {
   "cell_type": "code",
   "execution_count": 85,
   "metadata": {
    "colab": {},
    "colab_type": "code",
    "id": "JasaGFd0dMV3"
   },
   "outputs": [],
   "source": [
    "X_ = pd.concat([X[X['bin'] == 0].sample(counts[4]), X[X['bin'] == 1].sample(counts[4]),X[X['bin'] == 2].sample(counts[4]),X[X['bin'] == 3].sample(counts[4]), X[X['bin'] == 4].sample(counts[4])], axis=0)"
   ]
  },
  {
   "cell_type": "code",
   "execution_count": 92,
   "metadata": {
    "colab": {},
    "colab_type": "code",
    "id": "0SiwUd8geZpY"
   },
   "outputs": [],
   "source": [
    "y_train = X_.bin\n",
    "X_train = X_.drop(['bin'], axis=1)"
   ]
  },
  {
   "cell_type": "code",
   "execution_count": 95,
   "metadata": {
    "colab": {
     "base_uri": "https://localhost:8080/",
     "height": 34
    },
    "colab_type": "code",
    "id": "lDTKcOFOfc47",
    "outputId": "dab17bf7-1669-4a7b-b952-d4d6c7f5dfb2"
   },
   "outputs": [
    {
     "name": "stdout",
     "output_type": "stream",
     "text": [
      "0.639258258882194 0.5568144482346467 0.6985435667945867\n"
     ]
    }
   ],
   "source": [
    "rfc = RandomForestClassifier(n_estimators=10).fit(X_train, y_train)\n",
    "\n",
    "# predict on test set\n",
    "rfc_pred = rfc.predict(X_test)\n",
    "\n",
    "print(accuracy_score(y_test, rfc_pred), f1_score(y_test, rfc_pred, average = 'macro'), recall_score(y_test, rfc_pred, average = 'macro'))"
   ]
  },
  {
   "cell_type": "markdown",
   "metadata": {
    "colab_type": "text",
    "id": "3Oi0VMbeiiPI"
   },
   "source": [
    "Taking 10% the size of each class and oversampling the smaller classes to the min(max bin size, bin_size)"
   ]
  },
  {
   "cell_type": "code",
   "execution_count": 106,
   "metadata": {
    "colab": {
     "base_uri": "https://localhost:8080/",
     "height": 34
    },
    "colab_type": "code",
    "id": "bcRORWpjkBrN",
    "outputId": "7b27f9f6-1e7f-46de-f163-c62a6761e8cc"
   },
   "outputs": [
    {
     "data": {
      "text/plain": [
       "array([1041385,  467109,  355305,   39763,    2323])"
      ]
     },
     "execution_count": 106,
     "metadata": {
      "tags": []
     },
     "output_type": "execute_result"
    }
   ],
   "source": [
    "counts = y_train.value_counts().values\n",
    "counts"
   ]
  },
  {
   "cell_type": "code",
   "execution_count": 104,
   "metadata": {
    "colab": {},
    "colab_type": "code",
    "id": "o5JOjz7ej1_O"
   },
   "outputs": [],
   "source": [
    "X = pd.concat([X_train, y_train], axis=1)"
   ]
  },
  {
   "cell_type": "code",
   "execution_count": 115,
   "metadata": {
    "colab": {},
    "colab_type": "code",
    "id": "MBS7ih_zjtZa"
   },
   "outputs": [],
   "source": [
    "X_ = pd.concat([X[X['bin'] == 0].sample(min(int(counts[0]/10), counts[0])), X[X['bin'] == 1].sample(min(int(counts[0]/10), counts[1])),X[X['bin'] == 2].sample(min(int(counts[0]/10), counts[2])),X[X['bin'] == 3].sample(min(int(counts[0]/10), counts[3])), X[X['bin'] == 4].sample(min(int(counts[0]/10), counts[4]))], axis=0)"
   ]
  },
  {
   "cell_type": "code",
   "execution_count": 116,
   "metadata": {
    "colab": {},
    "colab_type": "code",
    "id": "ZWl8ENaLmGLm"
   },
   "outputs": [],
   "source": [
    "y_train = X_.bin\n",
    "X_train = X_.drop(['bin'], axis=1)"
   ]
  },
  {
   "cell_type": "code",
   "execution_count": 117,
   "metadata": {
    "colab": {
     "base_uri": "https://localhost:8080/",
     "height": 34
    },
    "colab_type": "code",
    "id": "HdSGdgOYmdJ_",
    "outputId": "6115d4e0-a74b-44d7-f384-6220b1092bff"
   },
   "outputs": [
    {
     "name": "stdout",
     "output_type": "stream",
     "text": [
      "0.6842405983793891 0.6109375761659601 0.6224364861093733\n"
     ]
    }
   ],
   "source": [
    "rfc = RandomForestClassifier(n_estimators=10).fit(X_train, y_train)\n",
    "\n",
    "# predict on test set\n",
    "rfc_pred = rfc.predict(X_test)\n",
    "\n",
    "print(accuracy_score(y_test, rfc_pred), f1_score(y_test, rfc_pred, average = 'macro'), recall_score(y_test, rfc_pred, average = 'macro'))"
   ]
  },
  {
   "cell_type": "markdown",
   "metadata": {
    "colab_type": "text",
    "id": "ctm8CvU8n-at"
   },
   "source": [
    "Saving data to Drive"
   ]
  },
  {
   "cell_type": "code",
   "execution_count": 119,
   "metadata": {
    "colab": {},
    "colab_type": "code",
    "id": "NZTEV-5kmjbK"
   },
   "outputs": [],
   "source": [
    "X_train.to_csv('X_train.csv')\n",
    "!cp X_train.csv \"drive/My Drive/Colab Notebooks/\"\n",
    "\n",
    "y_train.to_csv('y_train.csv')\n",
    "!cp y_train.csv \"drive/My Drive/Colab Notebooks/\"\n",
    "\n",
    "X_test.to_csv('X_test.csv')\n",
    "!cp X_test.csv \"drive/My Drive/Colab Notebooks/\"\n",
    "\n",
    "y_test.to_csv('y_test.csv')\n",
    "!cp y_test.csv \"drive/My Drive/Colab Notebooks/\""
   ]
  },
  {
   "cell_type": "code",
   "execution_count": 121,
   "metadata": {
    "colab": {
     "base_uri": "https://localhost:8080/",
     "height": 118
    },
    "colab_type": "code",
    "id": "nlvouTU2nt28",
    "outputId": "a00c3d6b-f685-47fb-a114-5e2ad39a8f73"
   },
   "outputs": [
    {
     "data": {
      "text/plain": [
       "2    104138\n",
       "1    104138\n",
       "0    104138\n",
       "3     39763\n",
       "4      2323\n",
       "Name: bin, dtype: int64"
      ]
     },
     "execution_count": 121,
     "metadata": {
      "tags": []
     },
     "output_type": "execute_result"
    }
   ],
   "source": [
    "y_train.value_counts()"
   ]
  },
  {
   "cell_type": "code",
   "execution_count": null,
   "metadata": {
    "colab": {},
    "colab_type": "code",
    "id": "JEHhdjUdom_4"
   },
   "outputs": [],
   "source": []
  }
 ],
 "metadata": {
  "colab": {
   "authorship_tag": "ABX9TyMvfsOuKJQ8Abg/iAtvtwIY",
   "collapsed_sections": [],
   "include_colab_link": true,
   "mount_file_id": "1IdAfz8raOxiClEFolpfF1zIsyBCmNtCn",
   "name": "Balencing2.ipynb",
   "provenance": []
  },
  "kernelspec": {
   "display_name": "Python 3",
   "language": "python",
   "name": "python3"
  },
  "language_info": {
   "codemirror_mode": {
    "name": "ipython",
    "version": 3
   },
   "file_extension": ".py",
   "mimetype": "text/x-python",
   "name": "python",
   "nbconvert_exporter": "python",
   "pygments_lexer": "ipython3",
   "version": "3.6.5"
  }
 },
 "nbformat": 4,
 "nbformat_minor": 1
}
